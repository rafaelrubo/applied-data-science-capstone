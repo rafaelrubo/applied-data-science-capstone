{
 "cells": [
  {
   "cell_type": "markdown",
   "metadata": {},
   "source": [
    "# Introduction"
   ]
  },
  {
   "cell_type": "markdown",
   "metadata": {},
   "source": [
    "The Brazilian immigration wave to the US hit its peak in the 1990s and early 2000s. During the 17 years between 1990 and 2007 over 275,000 Brazilians migrated to the United States. In total, around 7% of the entire US Brazilian population lives in New York City.\n",
    "\n",
    "According to the United States Census Bureau, in a survey from 2012, there were 72,635 brazilians living in NYC. It is the main metropolitan area of brazilian population, followed by Boston (63,930) and Miami (43,930).\n",
    "\n",
    "So, where exactly do Brazilians hang out in the city? Where can you find feijoada (a stew of beans with beef and pork) and other delicious Brazilian foods?\n",
    "\n",
    "This project will attempt to answer the questions “Where should an investor open a Brazilian Restaurant in NYC?” and “Where should I go If I want great Brazilian food?”"
   ]
  },
  {
   "cell_type": "markdown",
   "metadata": {},
   "source": [
    "# Data"
   ]
  },
  {
   "cell_type": "markdown",
   "metadata": {},
   "source": [
    "In order to answer the above questions, data on New York City neighborhoods, boroughs to include boundaries, latitude, longitude, restaurants, and restaurant ratings and tips are required.\n",
    "\n",
    "New York City data containing the neighborhoods and boroughs, latitudes, and longitudes will be obtained from the data source: https://cocl.us/new_york_dataset\n",
    "\n",
    "All data related to locations and quality of Brazilian restaurants will be obtained via the FourSquare API utilized via the Request library in Python."
   ]
  },
  {
   "cell_type": "markdown",
   "metadata": {},
   "source": [
    "# Methods"
   ]
  },
  {
   "cell_type": "markdown",
   "metadata": {},
   "source": [
    "• Data will be collected from https://cocl.us/new_york_dataset and cleaned and processed into a dataframe.\n",
    "\n",
    "• FourSquare be used to locate all venues and then filtered by Brazilian restaurants. Ratings, tips, and likes by users will be counted and added to the dataframe.\n",
    "\n",
    "• Data will be sorted based on rankings.\n",
    "\n",
    "• Finally, the data be will be visually assessed using graphing from Python libraries."
   ]
  },
  {
   "cell_type": "code",
   "execution_count": null,
   "metadata": {},
   "outputs": [],
   "source": [
    "# Importing Libraries\n",
    "\n",
    "import numpy as np # library to handle data in a vectorized manner\n",
    "\n",
    "import pandas as pd # library for data analsysis\n",
    "pd.set_option('display.max_columns', None)\n",
    "pd.set_option('display.max_rows', None)\n",
    "\n",
    "import requests # library to handle requests\n",
    "\n",
    "#from bs4 import BeautifulSoup\n",
    "import os\n",
    "\n",
    "!conda install -c conda-forge folium=0.5.0 --yes\n",
    "import folium # map rendering library\n",
    "\n",
    "#!conda install -c conda-forge geopy --yes\n",
    "from geopy.geocoders import Nominatim # convert an address into latitude and longitude values\n",
    "import requests # library to handle requests\n",
    "\n",
    "# Matplotlib and associated plotting modules\n",
    "import matplotlib.pyplot as plt\n",
    "import matplotlib.cm as cm\n",
    "import matplotlib.colors as colors\n",
    "%matplotlib inline\n",
    "\n",
    "import seaborn as sns\n",
    "\n",
    "print('Libraries imported.')"
   ]
  },
  {
   "cell_type": "code",
   "execution_count": 2,
   "metadata": {},
   "outputs": [],
   "source": [
    "# Defining Foursquare Credentials\n",
    "\n",
    "CLIENT_ID = 'MKZSGN3QMDZ4UH1NGESBX0APBNFHGWR2BRDYQHB0IZGMNNPI' # your Foursquare ID\n",
    "CLIENT_SECRET = 'W4XDRX40OYD05HDZ4QHRNKQE2NBKNT2J4S14IWI41NEKBHAO' # your Foursquare Secret\n",
    "VERSION = '20180605' # Foursquare API version"
   ]
  },
  {
   "cell_type": "code",
   "execution_count": 3,
   "metadata": {},
   "outputs": [],
   "source": [
    "# Defining functions for later use\n",
    "\n",
    "def geo_location(address):\n",
    "    # get geo location of address\n",
    "    geolocator = Nominatim(user_agent=\"foursquare_agent\")\n",
    "    location = geolocator.geocode(address)\n",
    "    latitude = location.latitude\n",
    "    longitude = location.longitude\n",
    "    return latitude,longitude\n",
    "\n",
    "\n",
    "def get_venues(lat,lng):\n",
    "    #set variables\n",
    "    radius=400\n",
    "    LIMIT=100\n",
    "    #url to fetch data from foursquare api\n",
    "    url = 'https://api.foursquare.com/v2/venues/explore?&client_id={}&client_secret={}&v={}&ll={},{}&radius={}&limit={}'.format(\n",
    "            CLIENT_ID, \n",
    "            CLIENT_SECRET, \n",
    "            VERSION, \n",
    "            lat, \n",
    "            lng, \n",
    "            radius, \n",
    "            LIMIT)\n",
    "    # get all the data\n",
    "    results = requests.get(url).json()\n",
    "    venue_data=results['response']['groups'][0]['items']\n",
    "    venue_details=[]\n",
    "    for row in venue_data:\n",
    "        try:\n",
    "            venue_id=row['venue']['id']\n",
    "            venue_name=row['venue']['name']\n",
    "            venue_category=row['venue']['categories'][0]['name']\n",
    "            venue_details.append([venue_id,venue_name,venue_category])\n",
    "        except KeyError:\n",
    "            pass\n",
    "    column_names=['ID','Name','Category']\n",
    "    df = pd.DataFrame(venue_details,columns=column_names)\n",
    "    return df\n",
    "\n",
    "\n",
    "def get_venue_details(venue_id):\n",
    "    #url to fetch data from foursquare api\n",
    "    url = 'https://api.foursquare.com/v2/venues/{}?&client_id={}&client_secret={}&v={}'.format(\n",
    "            venue_id,\n",
    "            CLIENT_ID, \n",
    "            CLIENT_SECRET, \n",
    "            VERSION)\n",
    "    # get all the data\n",
    "    results = requests.get(url).json()\n",
    "    print(results)\n",
    "    venue_data=results['response']['venue']\n",
    "    venue_details=[]\n",
    "    try:\n",
    "        venue_id=venue_data['id']\n",
    "        venue_name=venue_data['name']\n",
    "        venue_likes=venue_data['likes']['count']\n",
    "        venue_rating=venue_data['rating']\n",
    "        venue_tips=venue_data['tips']['count']\n",
    "        venue_details.append([venue_id,venue_name,venue_likes,venue_rating,venue_tips])\n",
    "    except KeyError:\n",
    "        pass\n",
    "    column_names=['ID','Name','Likes','Rating','Tips']\n",
    "    df = pd.DataFrame(venue_details,columns=column_names)\n",
    "    return df\n",
    "\n",
    "\n",
    "def get_new_york_data():\n",
    "    url='https://cocl.us/new_york_dataset'\n",
    "    resp=requests.get(url).json()\n",
    "    # all data is present in features label\n",
    "    features=resp['features']\n",
    "    # define the dataframe columns\n",
    "    column_names = ['Borough', 'Neighborhood', 'Latitude', 'Longitude'] \n",
    "    # instantiate the dataframe\n",
    "    new_york_data = pd.DataFrame(columns=column_names)\n",
    "    for data in features:\n",
    "        borough = data['properties']['borough'] \n",
    "        neighborhood_name = data['properties']['name']\n",
    "        neighborhood_latlon = data['geometry']['coordinates']\n",
    "        neighborhood_lat = neighborhood_latlon[1]\n",
    "        neighborhood_lon = neighborhood_latlon[0]\n",
    "        new_york_data = new_york_data.append({'Borough': borough,\n",
    "                                          'Neighborhood': neighborhood_name,\n",
    "                                          'Latitude': neighborhood_lat,\n",
    "                                          'Longitude': neighborhood_lon}, ignore_index=True)\n",
    "    return new_york_data"
   ]
  },
  {
   "cell_type": "code",
   "execution_count": 4,
   "metadata": {},
   "outputs": [
    {
     "data": {
      "text/html": [
       "<div>\n",
       "<style scoped>\n",
       "    .dataframe tbody tr th:only-of-type {\n",
       "        vertical-align: middle;\n",
       "    }\n",
       "\n",
       "    .dataframe tbody tr th {\n",
       "        vertical-align: top;\n",
       "    }\n",
       "\n",
       "    .dataframe thead th {\n",
       "        text-align: right;\n",
       "    }\n",
       "</style>\n",
       "<table border=\"1\" class=\"dataframe\">\n",
       "  <thead>\n",
       "    <tr style=\"text-align: right;\">\n",
       "      <th></th>\n",
       "      <th>Borough</th>\n",
       "      <th>Neighborhood</th>\n",
       "      <th>Latitude</th>\n",
       "      <th>Longitude</th>\n",
       "    </tr>\n",
       "  </thead>\n",
       "  <tbody>\n",
       "    <tr>\n",
       "      <th>0</th>\n",
       "      <td>Bronx</td>\n",
       "      <td>Wakefield</td>\n",
       "      <td>40.894705</td>\n",
       "      <td>-73.847201</td>\n",
       "    </tr>\n",
       "    <tr>\n",
       "      <th>1</th>\n",
       "      <td>Bronx</td>\n",
       "      <td>Co-op City</td>\n",
       "      <td>40.874294</td>\n",
       "      <td>-73.829939</td>\n",
       "    </tr>\n",
       "    <tr>\n",
       "      <th>2</th>\n",
       "      <td>Bronx</td>\n",
       "      <td>Eastchester</td>\n",
       "      <td>40.887556</td>\n",
       "      <td>-73.827806</td>\n",
       "    </tr>\n",
       "    <tr>\n",
       "      <th>3</th>\n",
       "      <td>Bronx</td>\n",
       "      <td>Fieldston</td>\n",
       "      <td>40.895437</td>\n",
       "      <td>-73.905643</td>\n",
       "    </tr>\n",
       "    <tr>\n",
       "      <th>4</th>\n",
       "      <td>Bronx</td>\n",
       "      <td>Riverdale</td>\n",
       "      <td>40.890834</td>\n",
       "      <td>-73.912585</td>\n",
       "    </tr>\n",
       "  </tbody>\n",
       "</table>\n",
       "</div>"
      ],
      "text/plain": [
       "  Borough Neighborhood   Latitude  Longitude\n",
       "0   Bronx    Wakefield  40.894705 -73.847201\n",
       "1   Bronx   Co-op City  40.874294 -73.829939\n",
       "2   Bronx  Eastchester  40.887556 -73.827806\n",
       "3   Bronx    Fieldston  40.895437 -73.905643\n",
       "4   Bronx    Riverdale  40.890834 -73.912585"
      ]
     },
     "execution_count": 4,
     "metadata": {},
     "output_type": "execute_result"
    }
   ],
   "source": [
    "# Getting NYC data\n",
    "ny_data = get_new_york_data()\n",
    "ny_data.head()"
   ]
  },
  {
   "cell_type": "code",
   "execution_count": 5,
   "metadata": {},
   "outputs": [
    {
     "data": {
      "text/plain": [
       "(306, 4)"
      ]
     },
     "execution_count": 5,
     "metadata": {},
     "output_type": "execute_result"
    }
   ],
   "source": [
    "# Evaluating data\n",
    "ny_data.shape"
   ]
  },
  {
   "cell_type": "markdown",
   "metadata": {},
   "source": [
    "306 different Neighborhoods in New York City"
   ]
  },
  {
   "cell_type": "code",
   "execution_count": 6,
   "metadata": {},
   "outputs": [
    {
     "data": {
      "image/png": "[encoded data removed]",
      "text/plain": [
       "<Figure size 720x360 with 1 Axes>"
      ]
     },
     "metadata": {
      "needs_background": "light"
     },
     "output_type": "display_data"
    }
   ],
   "source": [
    "# Analysing the data\n",
    "\n",
    "clr = \"cyan\"\n",
    "ny_data.groupby('Borough')['Neighborhood'].count().plot.bar(figsize=(10,5), color=clr)\n",
    "plt.title('Neighborhoods per Borough: NYC', fontsize = 20)\n",
    "plt.xlabel('Borough', fontsize = 15)\n",
    "plt.ylabel('No. Neighborhoods',fontsize = 15)\n",
    "plt.xticks(rotation = 'horizontal')\n",
    "plt.legend()\n",
    "plt.show()"
   ]
  },
  {
   "cell_type": "markdown",
   "metadata": {},
   "source": [
    "### Number of Brazilian restaurants in each neighborhood and borough"
   ]
  },
  {
   "cell_type": "code",
   "execution_count": 7,
   "metadata": {},
   "outputs": [
    {
     "name": "stdout",
     "output_type": "stream",
     "text": [
      "( 1 / 306 ) Brazilian Restaurants in Wakefield, Bronx:0\n",
      "['Bronx', 'Wakefield', 40.89470517661, -73.84720052054902]\n",
      "( 2 / 306 ) Brazilian Restaurants in Co-op City, Bronx:0\n",
      "['Bronx', 'Co-op City', 40.87429419303012, -73.82993910812398]\n",
      "( 3 / 306 ) Brazilian Restaurants in Eastchester, Bronx:0\n",
      "['Bronx', 'Eastchester', 40.887555677350775, -73.82780644716412]\n",
      "( 4 / 306 ) Brazilian Restaurants in Fieldston, Bronx:0\n",
      "['Bronx', 'Fieldston', 40.89543742690383, -73.90564259591682]\n",
      "( 5 / 306 ) Brazilian Restaurants in Riverdale, Bronx:0\n",
      "['Bronx', 'Riverdale', 40.890834493891305, -73.9125854610857]\n",
      "( 6 / 306 ) Brazilian Restaurants in Kingsbridge, Bronx:0\n",
      "['Bronx', 'Kingsbridge', 40.88168737120521, -73.90281798724604]\n",
      "( 7 / 306 ) Brazilian Restaurants in Marble Hill, Manhattan:0\n",
      "['Manhattan', 'Marble Hill', 40.87655077879964, -73.91065965862981]\n",
      "( 8 / 306 ) Brazilian Restaurants in Woodlawn, Bronx:0\n",
      "['Bronx', 'Woodlawn', 40.89827261213805, -73.86731496814176]\n",
      "( 9 / 306 ) Brazilian Restaurants in Norwood, Bronx:0\n",
      "['Bronx', 'Norwood', 40.87722415599446, -73.8793907395681]\n",
      "( 10 / 306 ) Brazilian Restaurants in Williamsbridge, Bronx:0\n",
      "['Bronx', 'Williamsbridge', 40.88103887819211, -73.85744642974207]\n",
      "( 11 / 306 ) Brazilian Restaurants in Baychester, Bronx:0\n",
      "['Bronx', 'Baychester', 40.866858107252696, -73.83579759808117]\n",
      "( 12 / 306 ) Brazilian Restaurants in Pelham Parkway, Bronx:0\n",
      "['Bronx', 'Pelham Parkway', 40.85741349808865, -73.85475564017999]\n",
      "( 13 / 306 ) Brazilian Restaurants in City Island, Bronx:0\n",
      "['Bronx', 'City Island', 40.84724670491813, -73.78648845267413]\n",
      "( 14 / 306 ) Brazilian Restaurants in Bedford Park, Bronx:0\n",
      "['Bronx', 'Bedford Park', 40.870185164975325, -73.8855121841913]\n",
      "( 15 / 306 ) Brazilian Restaurants in University Heights, Bronx:0\n",
      "['Bronx', 'University Heights', 40.85572707719664, -73.9104159619131]\n",
      "( 16 / 306 ) Brazilian Restaurants in Morris Heights, Bronx:0\n",
      "['Bronx', 'Morris Heights', 40.84789792606271, -73.91967159119565]\n",
      "( 17 / 306 ) Brazilian Restaurants in Fordham, Bronx:0\n",
      "['Bronx', 'Fordham', 40.86099679638654, -73.89642655981623]\n",
      "( 18 / 306 ) Brazilian Restaurants in East Tremont, Bronx:0\n",
      "['Bronx', 'East Tremont', 40.84269615786053, -73.88735617532338]\n",
      "( 19 / 306 ) Brazilian Restaurants in West Farms, Bronx:0\n",
      "['Bronx', 'West Farms', 40.83947505672653, -73.87774474910545]\n",
      "( 20 / 306 ) Brazilian Restaurants in High  Bridge, Bronx:0\n",
      "['Bronx', 'High  Bridge', 40.836623010706056, -73.9261020935813]\n",
      "( 21 / 306 ) Brazilian Restaurants in Melrose, Bronx:0\n",
      "['Bronx', 'Melrose', 40.819754370594936, -73.90942160757436]\n",
      "( 22 / 306 ) Brazilian Restaurants in Mott Haven, Bronx:0\n",
      "['Bronx', 'Mott Haven', 40.80623874935177, -73.91609987487575]\n",
      "( 23 / 306 ) Brazilian Restaurants in Port Morris, Bronx:0\n",
      "['Bronx', 'Port Morris', 40.801663627756206, -73.91322139386135]\n",
      "( 24 / 306 ) Brazilian Restaurants in Longwood, Bronx:0\n",
      "['Bronx', 'Longwood', 40.81509904545822, -73.8957882009446]\n",
      "( 25 / 306 ) Brazilian Restaurants in Hunts Point, Bronx:0\n",
      "['Bronx', 'Hunts Point', 40.80972987938709, -73.88331505955291]\n",
      "( 26 / 306 ) Brazilian Restaurants in Morrisania, Bronx:0\n",
      "['Bronx', 'Morrisania', 40.82359198585534, -73.90150648943059]\n",
      "( 27 / 306 ) Brazilian Restaurants in Soundview, Bronx:0\n",
      "['Bronx', 'Soundview', 40.821012197914015, -73.86574609554924]\n",
      "( 28 / 306 ) Brazilian Restaurants in Clason Point, Bronx:0\n",
      "['Bronx', 'Clason Point', 40.80655112003589, -73.85414416189266]\n",
      "( 29 / 306 ) Brazilian Restaurants in Throgs Neck, Bronx:0\n",
      "['Bronx', 'Throgs Neck', 40.81510925804005, -73.81635002158441]\n",
      "( 30 / 306 ) Brazilian Restaurants in Country Club, Bronx:0\n",
      "['Bronx', 'Country Club', 40.844245936947374, -73.8240992675385]\n",
      "( 31 / 306 ) Brazilian Restaurants in Parkchester, Bronx:0\n",
      "['Bronx', 'Parkchester', 40.837937822267286, -73.85600310535783]\n",
      "( 32 / 306 ) Brazilian Restaurants in Westchester Square, Bronx:0\n",
      "['Bronx', 'Westchester Square', 40.8406194964327, -73.84219407604444]\n",
      "( 33 / 306 ) Brazilian Restaurants in Van Nest, Bronx:0\n",
      "['Bronx', 'Van Nest', 40.84360847124718, -73.8662991807561]\n",
      "( 34 / 306 ) Brazilian Restaurants in Morris Park, Bronx:0\n",
      "['Bronx', 'Morris Park', 40.847549063536334, -73.85040178030421]\n",
      "( 35 / 306 ) Brazilian Restaurants in Belmont, Bronx:0\n",
      "['Bronx', 'Belmont', 40.85727710073895, -73.88845196134804]\n",
      "( 36 / 306 ) Brazilian Restaurants in Spuyten Duyvil, Bronx:0\n",
      "['Bronx', 'Spuyten Duyvil', 40.88139497727086, -73.91719048210393]\n",
      "( 37 / 306 ) Brazilian Restaurants in North Riverdale, Bronx:0\n",
      "['Bronx', 'North Riverdale', 40.90854282950666, -73.90453054908927]\n",
      "( 38 / 306 ) Brazilian Restaurants in Pelham Bay, Bronx:0\n",
      "['Bronx', 'Pelham Bay', 40.85064140940335, -73.8320737824047]\n",
      "( 39 / 306 ) Brazilian Restaurants in Schuylerville, Bronx:0\n",
      "['Bronx', 'Schuylerville', 40.82657951686922, -73.82620275994073]\n",
      "( 40 / 306 ) Brazilian Restaurants in Edgewater Park, Bronx:0\n",
      "['Bronx', 'Edgewater Park', 40.821986118163494, -73.81388514428619]\n",
      "( 41 / 306 ) Brazilian Restaurants in Castle Hill, Bronx:0\n",
      "['Bronx', 'Castle Hill', 40.819014376988314, -73.84802729582735]\n",
      "( 42 / 306 ) Brazilian Restaurants in Olinville, Bronx:0\n",
      "['Bronx', 'Olinville', 40.87137078192371, -73.86332361652777]\n",
      "( 43 / 306 ) Brazilian Restaurants in Pelham Gardens, Bronx:0\n",
      "['Bronx', 'Pelham Gardens', 40.86296562477998, -73.84161194831223]\n",
      "( 44 / 306 ) Brazilian Restaurants in Concourse, Bronx:0\n",
      "['Bronx', 'Concourse', 40.83428380733851, -73.91558941773444]\n",
      "( 45 / 306 ) Brazilian Restaurants in Unionport, Bronx:0\n",
      "['Bronx', 'Unionport', 40.82977429787161, -73.85053524451935]\n",
      "( 46 / 306 ) Brazilian Restaurants in Edenwald, Bronx:0\n",
      "['Bronx', 'Edenwald', 40.88456130303732, -73.84808271877168]\n",
      "( 47 / 306 ) Brazilian Restaurants in Bay Ridge, Brooklyn:0\n",
      "['Brooklyn', 'Bay Ridge', 40.625801065010656, -74.03062069353813]\n",
      "( 48 / 306 ) Brazilian Restaurants in Bensonhurst, Brooklyn:0\n",
      "['Brooklyn', 'Bensonhurst', 40.61100890202044, -73.99517998380729]\n",
      "( 49 / 306 ) Brazilian Restaurants in Sunset Park, Brooklyn:0\n",
      "['Brooklyn', 'Sunset Park', 40.64510294925429, -74.01031618527784]\n",
      "( 50 / 306 ) Brazilian Restaurants in Greenpoint, Brooklyn:0\n",
      "['Brooklyn', 'Greenpoint', 40.7302009848647, -73.95424093127393]\n",
      "( 51 / 306 ) Brazilian Restaurants in Gravesend, Brooklyn:0\n",
      "['Brooklyn', 'Gravesend', 40.59526001306593, -73.97347087708445]\n",
      "( 52 / 306 ) Brazilian Restaurants in Brighton Beach, Brooklyn:0\n",
      "['Brooklyn', 'Brighton Beach', 40.57682506566604, -73.96509448785336]\n",
      "( 53 / 306 ) Brazilian Restaurants in Sheepshead Bay, Brooklyn:0\n",
      "['Brooklyn', 'Sheepshead Bay', 40.58689012678384, -73.94318640482979]\n",
      "( 54 / 306 ) Brazilian Restaurants in Manhattan Terrace, Brooklyn:0\n",
      "['Brooklyn', 'Manhattan Terrace', 40.61443251335098, -73.95743840559939]\n",
      "( 55 / 306 ) Brazilian Restaurants in Flatbush, Brooklyn:0\n",
      "['Brooklyn', 'Flatbush', 40.63632589026677, -73.95840106533903]\n",
      "( 56 / 306 ) Brazilian Restaurants in Crown Heights, Brooklyn:0\n",
      "['Brooklyn', 'Crown Heights', 40.67082917695294, -73.94329119073582]\n",
      "( 57 / 306 ) Brazilian Restaurants in East Flatbush, Brooklyn:0\n",
      "['Brooklyn', 'East Flatbush', 40.64171776668961, -73.93610256185836]\n",
      "( 58 / 306 ) Brazilian Restaurants in Kensington, Brooklyn:0\n",
      "['Brooklyn', 'Kensington', 40.642381958003526, -73.98042110559474]\n",
      "( 59 / 306 ) Brazilian Restaurants in Windsor Terrace, Brooklyn:0\n",
      "['Brooklyn', 'Windsor Terrace', 40.65694583575104, -73.98007340430172]\n",
      "( 60 / 306 ) Brazilian Restaurants in Prospect Heights, Brooklyn:0\n",
      "['Brooklyn', 'Prospect Heights', 40.676822262254724, -73.9648592426269]\n",
      "( 61 / 306 ) Brazilian Restaurants in Brownsville, Brooklyn:0\n",
      "['Brooklyn', 'Brownsville', 40.66394994339755, -73.91023536176607]\n",
      "( 62 / 306 ) Brazilian Restaurants in Williamsburg, Brooklyn:0\n",
      "['Brooklyn', 'Williamsburg', 40.70714439344251, -73.95811529220927]\n",
      "( 63 / 306 ) Brazilian Restaurants in Bushwick, Brooklyn:0\n",
      "['Brooklyn', 'Bushwick', 40.69811611017901, -73.92525797487045]\n",
      "( 64 / 306 ) Brazilian Restaurants in Bedford Stuyvesant, Brooklyn:0\n",
      "['Brooklyn', 'Bedford Stuyvesant', 40.687231607720456, -73.94178488690297]\n",
      "( 65 / 306 ) Brazilian Restaurants in Brooklyn Heights, Brooklyn:0\n",
      "['Brooklyn', 'Brooklyn Heights', 40.695863722724084, -73.99378225496424]\n",
      "( 66 / 306 ) Brazilian Restaurants in Cobble Hill, Brooklyn:0\n",
      "['Brooklyn', 'Cobble Hill', 40.687919722485574, -73.99856139218463]\n"
     ]
    },
    {
     "name": "stdout",
     "output_type": "stream",
     "text": [
      "( 67 / 306 ) Brazilian Restaurants in Carroll Gardens, Brooklyn:0\n",
      "['Brooklyn', 'Carroll Gardens', 40.680540231076485, -73.99465372828006]\n",
      "( 68 / 306 ) Brazilian Restaurants in Red Hook, Brooklyn:0\n",
      "['Brooklyn', 'Red Hook', 40.676253230250886, -74.0127589747356]\n",
      "( 69 / 306 ) Brazilian Restaurants in Gowanus, Brooklyn:0\n",
      "['Brooklyn', 'Gowanus', 40.673931143187154, -73.99444087145339]\n",
      "( 70 / 306 ) Brazilian Restaurants in Fort Greene, Brooklyn:0\n",
      "['Brooklyn', 'Fort Greene', 40.68852726018977, -73.97290574369092]\n",
      "( 71 / 306 ) Brazilian Restaurants in Park Slope, Brooklyn:0\n",
      "['Brooklyn', 'Park Slope', 40.67232052268197, -73.97705030183924]\n",
      "( 72 / 306 ) Brazilian Restaurants in Cypress Hills, Brooklyn:0\n",
      "['Brooklyn', 'Cypress Hills', 40.68239101144211, -73.87661596457296]\n",
      "( 73 / 306 ) Brazilian Restaurants in East New York, Brooklyn:0\n",
      "['Brooklyn', 'East New York', 40.669925700847045, -73.88069863917366]\n",
      "( 74 / 306 ) Brazilian Restaurants in Starrett City, Brooklyn:0\n",
      "['Brooklyn', 'Starrett City', 40.64758905230874, -73.87936970045875]\n",
      "( 75 / 306 ) Brazilian Restaurants in Canarsie, Brooklyn:0\n",
      "['Brooklyn', 'Canarsie', 40.63556432797428, -73.90209269778966]\n",
      "( 76 / 306 ) Brazilian Restaurants in Flatlands, Brooklyn:0\n",
      "['Brooklyn', 'Flatlands', 40.630446043757466, -73.92911302644674]\n",
      "( 77 / 306 ) Brazilian Restaurants in Mill Island, Brooklyn:0\n",
      "['Brooklyn', 'Mill Island', 40.606336421685626, -73.90818571777423]\n",
      "( 78 / 306 ) Brazilian Restaurants in Manhattan Beach, Brooklyn:0\n",
      "['Brooklyn', 'Manhattan Beach', 40.57791350308657, -73.94353722891886]\n",
      "( 79 / 306 ) Brazilian Restaurants in Coney Island, Brooklyn:0\n",
      "['Brooklyn', 'Coney Island', 40.57429256471601, -73.98868295821637]\n",
      "( 80 / 306 ) Brazilian Restaurants in Bath Beach, Brooklyn:0\n",
      "['Brooklyn', 'Bath Beach', 40.59951870282238, -73.99875221443519]\n",
      "( 81 / 306 ) Brazilian Restaurants in Borough Park, Brooklyn:0\n",
      "['Brooklyn', 'Borough Park', 40.633130512758015, -73.99049823044811]\n",
      "( 82 / 306 ) Brazilian Restaurants in Dyker Heights, Brooklyn:0\n",
      "['Brooklyn', 'Dyker Heights', 40.619219457722636, -74.01931375636022]\n",
      "( 83 / 306 ) Brazilian Restaurants in Gerritsen Beach, Brooklyn:0\n",
      "['Brooklyn', 'Gerritsen Beach', 40.590848433902046, -73.93010170691196]\n",
      "( 84 / 306 ) Brazilian Restaurants in Marine Park, Brooklyn:0\n",
      "['Brooklyn', 'Marine Park', 40.609747779894604, -73.93134404108497]\n",
      "( 85 / 306 ) Brazilian Restaurants in Clinton Hill, Brooklyn:0\n",
      "['Brooklyn', 'Clinton Hill', 40.693229421881504, -73.96784306216367]\n",
      "( 86 / 306 ) Brazilian Restaurants in Sea Gate, Brooklyn:0\n",
      "['Brooklyn', 'Sea Gate', 40.57637537890224, -74.0078731120024]\n",
      "( 87 / 306 ) Brazilian Restaurants in Downtown, Brooklyn:0\n",
      "['Brooklyn', 'Downtown', 40.69084402109802, -73.98346337431099]\n",
      "( 88 / 306 ) Brazilian Restaurants in Boerum Hill, Brooklyn:0\n",
      "['Brooklyn', 'Boerum Hill', 40.685682912091444, -73.98374824115798]\n",
      "( 89 / 306 ) Brazilian Restaurants in Prospect Lefferts Gardens, Brooklyn:0\n",
      "['Brooklyn', 'Prospect Lefferts Gardens', 40.658420017469815, -73.95489867077713]\n",
      "( 90 / 306 ) Brazilian Restaurants in Ocean Hill, Brooklyn:0\n",
      "['Brooklyn', 'Ocean Hill', 40.678402554795355, -73.91306831787395]\n",
      "( 91 / 306 ) Brazilian Restaurants in City Line, Brooklyn:0\n",
      "['Brooklyn', 'City Line', 40.67856995727479, -73.86797598081334]\n",
      "( 92 / 306 ) Brazilian Restaurants in Bergen Beach, Brooklyn:0\n",
      "['Brooklyn', 'Bergen Beach', 40.61514955045308, -73.89855633630317]\n",
      "( 93 / 306 ) Brazilian Restaurants in Midwood, Brooklyn:0\n",
      "['Brooklyn', 'Midwood', 40.62559589869843, -73.95759523489838]\n",
      "( 94 / 306 ) Brazilian Restaurants in Prospect Park South, Brooklyn:0\n",
      "['Brooklyn', 'Prospect Park South', 40.647008603185185, -73.96261316716048]\n",
      "( 95 / 306 ) Brazilian Restaurants in Georgetown, Brooklyn:0\n",
      "['Brooklyn', 'Georgetown', 40.62384524478419, -73.91607483951324]\n",
      "( 96 / 306 ) Brazilian Restaurants in East Williamsburg, Brooklyn:0\n",
      "['Brooklyn', 'East Williamsburg', 40.70849241041548, -73.93885815269195]\n",
      "( 97 / 306 ) Brazilian Restaurants in North Side, Brooklyn:0\n",
      "['Brooklyn', 'North Side', 40.714822906532014, -73.95880857587582]\n",
      "( 98 / 306 ) Brazilian Restaurants in South Side, Brooklyn:0\n",
      "['Brooklyn', 'South Side', 40.71086147265064, -73.95800095153331]\n",
      "( 99 / 306 ) Brazilian Restaurants in Ocean Parkway, Brooklyn:0\n",
      "['Brooklyn', 'Ocean Parkway', 40.61305976667942, -73.96836678035541]\n",
      "( 100 / 306 ) Brazilian Restaurants in Fort Hamilton, Brooklyn:0\n",
      "['Brooklyn', 'Fort Hamilton', 40.61476812694226, -74.03197914537984]\n",
      "( 101 / 306 ) Brazilian Restaurants in Chinatown, Manhattan:0\n",
      "['Manhattan', 'Chinatown', 40.71561842231432, -73.99427936255978]\n",
      "( 102 / 306 ) Brazilian Restaurants in Washington Heights, Manhattan:0\n",
      "['Manhattan', 'Washington Heights', 40.85190252555305, -73.93690027985234]\n",
      "( 103 / 306 ) Brazilian Restaurants in Inwood, Manhattan:0\n",
      "['Manhattan', 'Inwood', 40.86768396449915, -73.92121042203897]\n",
      "( 104 / 306 ) Brazilian Restaurants in Hamilton Heights, Manhattan:0\n",
      "['Manhattan', 'Hamilton Heights', 40.823604284811935, -73.94968791883366]\n",
      "( 105 / 306 ) Brazilian Restaurants in Manhattanville, Manhattan:0\n",
      "['Manhattan', 'Manhattanville', 40.8169344294978, -73.9573853935188]\n",
      "( 106 / 306 ) Brazilian Restaurants in Central Harlem, Manhattan:0\n",
      "['Manhattan', 'Central Harlem', 40.81597606742414, -73.94321112603905]\n",
      "( 107 / 306 ) Brazilian Restaurants in East Harlem, Manhattan:0\n",
      "['Manhattan', 'East Harlem', 40.79224946663033, -73.94418223148524]\n",
      "( 108 / 306 ) Brazilian Restaurants in Upper East Side, Manhattan:0\n",
      "['Manhattan', 'Upper East Side', 40.775638573301805, -73.96050763135]\n",
      "( 109 / 306 ) Brazilian Restaurants in Yorkville, Manhattan:0\n",
      "['Manhattan', 'Yorkville', 40.775929849884875, -73.94711784471826]\n",
      "( 110 / 306 ) Brazilian Restaurants in Lenox Hill, Manhattan:0\n",
      "['Manhattan', 'Lenox Hill', 40.76811265828733, -73.9588596881376]\n",
      "( 111 / 306 ) Brazilian Restaurants in Roosevelt Island, Manhattan:0\n",
      "['Manhattan', 'Roosevelt Island', 40.76215960576283, -73.94916769227953]\n",
      "( 112 / 306 ) Brazilian Restaurants in Upper West Side, Manhattan:0\n",
      "['Manhattan', 'Upper West Side', 40.787657998534854, -73.97705923630603]\n",
      "( 113 / 306 ) Brazilian Restaurants in Lincoln Square, Manhattan:0\n",
      "['Manhattan', 'Lincoln Square', 40.77352888942166, -73.98533777001262]\n",
      "( 114 / 306 ) Brazilian Restaurants in Clinton, Manhattan:0\n",
      "['Manhattan', 'Clinton', 40.75910089146212, -73.99611936309479]\n",
      "( 115 / 306 ) Brazilian Restaurants in Midtown, Manhattan:0\n",
      "['Manhattan', 'Midtown', 40.75469110270623, -73.98166882730304]\n",
      "( 116 / 306 ) Brazilian Restaurants in Murray Hill, Manhattan:0\n",
      "['Manhattan', 'Murray Hill', 40.748303077252174, -73.97833207924127]\n",
      "( 117 / 306 ) Brazilian Restaurants in Chelsea, Manhattan:0\n",
      "['Manhattan', 'Chelsea', 40.744034706747975, -74.00311633472813]\n",
      "( 118 / 306 ) Brazilian Restaurants in Greenwich Village, Manhattan:0\n",
      "['Manhattan', 'Greenwich Village', 40.72693288536128, -73.99991402945902]\n",
      "( 119 / 306 ) Brazilian Restaurants in East Village, Manhattan:0\n",
      "['Manhattan', 'East Village', 40.727846777270244, -73.98222616506416]\n",
      "( 120 / 306 ) Brazilian Restaurants in Lower East Side, Manhattan:0\n",
      "['Manhattan', 'Lower East Side', 40.71780674892765, -73.98089031999291]\n",
      "( 121 / 306 ) Brazilian Restaurants in Tribeca, Manhattan:0\n",
      "['Manhattan', 'Tribeca', 40.721521967443216, -74.01068328559087]\n",
      "( 122 / 306 ) Brazilian Restaurants in Little Italy, Manhattan:0\n",
      "['Manhattan', 'Little Italy', 40.71932379395907, -73.99730467208073]\n",
      "( 123 / 306 ) Brazilian Restaurants in Soho, Manhattan:0\n",
      "['Manhattan', 'Soho', 40.72218384131794, -74.00065666959759]\n",
      "( 124 / 306 ) Brazilian Restaurants in West Village, Manhattan:1\n",
      "['Manhattan', 'West Village', 40.73443393572434, -74.00617998126812]\n",
      "( 125 / 306 ) Brazilian Restaurants in Manhattan Valley, Manhattan:0\n",
      "['Manhattan', 'Manhattan Valley', 40.797307041702865, -73.96428617740655]\n",
      "( 126 / 306 ) Brazilian Restaurants in Morningside Heights, Manhattan:0\n",
      "['Manhattan', 'Morningside Heights', 40.807999738165826, -73.96389627905332]\n",
      "( 127 / 306 ) Brazilian Restaurants in Gramercy, Manhattan:0\n",
      "['Manhattan', 'Gramercy', 40.737209832715, -73.98137594833541]\n",
      "( 128 / 306 ) Brazilian Restaurants in Battery Park City, Manhattan:0\n",
      "['Manhattan', 'Battery Park City', 40.71193198394565, -74.01686930508617]\n"
     ]
    },
    {
     "name": "stdout",
     "output_type": "stream",
     "text": [
      "( 129 / 306 ) Brazilian Restaurants in Financial District, Manhattan:0\n",
      "['Manhattan', 'Financial District', 40.70710710727048, -74.0106654452127]\n",
      "( 130 / 306 ) Brazilian Restaurants in Astoria, Queens:1\n",
      "['Queens', 'Astoria', 40.76850859335492, -73.91565374304234]\n",
      "( 131 / 306 ) Brazilian Restaurants in Woodside, Queens:0\n",
      "['Queens', 'Woodside', 40.74634908860222, -73.90184166838284]\n",
      "( 132 / 306 ) Brazilian Restaurants in Jackson Heights, Queens:0\n",
      "['Queens', 'Jackson Heights', 40.75198138007367, -73.88282109164365]\n",
      "( 133 / 306 ) Brazilian Restaurants in Elmhurst, Queens:0\n",
      "['Queens', 'Elmhurst', 40.744048505122024, -73.88165622288388]\n",
      "( 134 / 306 ) Brazilian Restaurants in Howard Beach, Queens:0\n",
      "['Queens', 'Howard Beach', 40.65422527738487, -73.8381376460028]\n",
      "( 135 / 306 ) Brazilian Restaurants in Corona, Queens:0\n",
      "['Queens', 'Corona', 40.74238175015667, -73.85682497345258]\n",
      "( 136 / 306 ) Brazilian Restaurants in Forest Hills, Queens:0\n",
      "['Queens', 'Forest Hills', 40.72526378216503, -73.84447500788983]\n",
      "( 137 / 306 ) Brazilian Restaurants in Kew Gardens, Queens:0\n",
      "['Queens', 'Kew Gardens', 40.7051790354148, -73.82981905825703]\n",
      "( 138 / 306 ) Brazilian Restaurants in Richmond Hill, Queens:0\n",
      "['Queens', 'Richmond Hill', 40.69794731471763, -73.83183321446887]\n",
      "( 139 / 306 ) Brazilian Restaurants in Flushing, Queens:0\n",
      "['Queens', 'Flushing', 40.76445419697846, -73.83177300329582]\n",
      "( 140 / 306 ) Brazilian Restaurants in Long Island City, Queens:0\n",
      "['Queens', 'Long Island City', 40.75021734610528, -73.93920223915505]\n",
      "( 141 / 306 ) Brazilian Restaurants in Sunnyside, Queens:0\n",
      "['Queens', 'Sunnyside', 40.74017628351924, -73.92691617561577]\n",
      "( 142 / 306 ) Brazilian Restaurants in East Elmhurst, Queens:0\n",
      "['Queens', 'East Elmhurst', 40.76407323883091, -73.86704147658772]\n",
      "( 143 / 306 ) Brazilian Restaurants in Maspeth, Queens:0\n",
      "['Queens', 'Maspeth', 40.725427374093606, -73.89621713626859]\n",
      "( 144 / 306 ) Brazilian Restaurants in Ridgewood, Queens:0\n",
      "['Queens', 'Ridgewood', 40.70832315613858, -73.90143517559589]\n",
      "( 145 / 306 ) Brazilian Restaurants in Glendale, Queens:0\n",
      "['Queens', 'Glendale', 40.70276242967838, -73.87074167435605]\n",
      "( 146 / 306 ) Brazilian Restaurants in Rego Park, Queens:0\n",
      "['Queens', 'Rego Park', 40.72897409480735, -73.8578268690537]\n",
      "( 147 / 306 ) Brazilian Restaurants in Woodhaven, Queens:0\n",
      "['Queens', 'Woodhaven', 40.68988687915789, -73.8581104655432]\n",
      "( 148 / 306 ) Brazilian Restaurants in Ozone Park, Queens:0\n",
      "['Queens', 'Ozone Park', 40.680708468265415, -73.84320266173447]\n",
      "( 149 / 306 ) Brazilian Restaurants in South Ozone Park, Queens:0\n",
      "['Queens', 'South Ozone Park', 40.66854957767195, -73.80986478649041]\n",
      "( 150 / 306 ) Brazilian Restaurants in College Point, Queens:0\n",
      "['Queens', 'College Point', 40.784902749260205, -73.84304528896125]\n",
      "( 151 / 306 ) Brazilian Restaurants in Whitestone, Queens:0\n",
      "['Queens', 'Whitestone', 40.78129076602694, -73.81420216610863]\n",
      "( 152 / 306 ) Brazilian Restaurants in Bayside, Queens:0\n",
      "['Queens', 'Bayside', 40.76604063281064, -73.7742736306867]\n",
      "( 153 / 306 ) Brazilian Restaurants in Auburndale, Queens:0\n",
      "['Queens', 'Auburndale', 40.76172954903262, -73.79176243728061]\n",
      "( 154 / 306 ) Brazilian Restaurants in Little Neck, Queens:0\n",
      "['Queens', 'Little Neck', 40.7708261928267, -73.7388977558074]\n",
      "( 155 / 306 ) Brazilian Restaurants in Douglaston, Queens:0\n",
      "['Queens', 'Douglaston', 40.76684609790763, -73.7424982072733]\n",
      "( 156 / 306 ) Brazilian Restaurants in Glen Oaks, Queens:0\n",
      "['Queens', 'Glen Oaks', 40.74944079974332, -73.71548118999145]\n",
      "( 157 / 306 ) Brazilian Restaurants in Bellerose, Queens:0\n",
      "['Queens', 'Bellerose', 40.72857318176675, -73.72012814826903]\n",
      "( 158 / 306 ) Brazilian Restaurants in Kew Gardens Hills, Queens:0\n",
      "['Queens', 'Kew Gardens Hills', 40.722578244228046, -73.82087764933566]\n",
      "( 159 / 306 ) Brazilian Restaurants in Fresh Meadows, Queens:0\n",
      "['Queens', 'Fresh Meadows', 40.7343944653313, -73.78271337003264]\n",
      "( 160 / 306 ) Brazilian Restaurants in Briarwood, Queens:0\n",
      "['Queens', 'Briarwood', 40.71093547252271, -73.81174822458634]\n",
      "( 161 / 306 ) Brazilian Restaurants in Jamaica Center, Queens:0\n",
      "['Queens', 'Jamaica Center', 40.70465736068717, -73.79690165888289]\n",
      "( 162 / 306 ) Brazilian Restaurants in Oakland Gardens, Queens:0\n",
      "['Queens', 'Oakland Gardens', 40.74561857141855, -73.75494976234332]\n",
      "( 163 / 306 ) Brazilian Restaurants in Queens Village, Queens:0\n",
      "['Queens', 'Queens Village', 40.718893092167356, -73.73871484578424]\n",
      "( 164 / 306 ) Brazilian Restaurants in Hollis, Queens:0\n",
      "['Queens', 'Hollis', 40.71124344191904, -73.75925009335594]\n",
      "( 165 / 306 ) Brazilian Restaurants in South Jamaica, Queens:0\n",
      "['Queens', 'South Jamaica', 40.696911253789885, -73.7904261313554]\n",
      "( 166 / 306 ) Brazilian Restaurants in St. Albans, Queens:0\n",
      "['Queens', 'St. Albans', 40.69444538522359, -73.75867603727717]\n",
      "( 167 / 306 ) Brazilian Restaurants in Rochdale, Queens:0\n",
      "['Queens', 'Rochdale', 40.67521139591733, -73.77258787620906]\n",
      "( 168 / 306 ) Brazilian Restaurants in Springfield Gardens, Queens:0\n",
      "['Queens', 'Springfield Gardens', 40.666230490368584, -73.76042092682287]\n",
      "( 169 / 306 ) Brazilian Restaurants in Cambria Heights, Queens:0\n",
      "['Queens', 'Cambria Heights', 40.692774639160845, -73.73526873708026]\n",
      "( 170 / 306 ) Brazilian Restaurants in Rosedale, Queens:0\n",
      "['Queens', 'Rosedale', 40.659816433428084, -73.73526079428278]\n",
      "( 171 / 306 ) Brazilian Restaurants in Far Rockaway, Queens:0\n",
      "['Queens', 'Far Rockaway', 40.603134432500894, -73.75497968043872]\n",
      "( 172 / 306 ) Brazilian Restaurants in Broad Channel, Queens:0\n",
      "['Queens', 'Broad Channel', 40.60302658351238, -73.8200548911032]\n",
      "( 173 / 306 ) Brazilian Restaurants in Breezy Point, Queens:0\n",
      "['Queens', 'Breezy Point', 40.55740128845452, -73.92551196994168]\n",
      "( 174 / 306 ) Brazilian Restaurants in Steinway, Queens:0\n",
      "['Queens', 'Steinway', 40.775923015642896, -73.90228960391673]\n",
      "( 175 / 306 ) Brazilian Restaurants in Beechhurst, Queens:0\n",
      "['Queens', 'Beechhurst', 40.79278140360048, -73.80436451720988]\n",
      "( 176 / 306 ) Brazilian Restaurants in Bay Terrace, Queens:0\n",
      "['Queens', 'Bay Terrace', 40.782842806245554, -73.7768022262158]\n",
      "( 177 / 306 ) Brazilian Restaurants in Edgemere, Queens:0\n",
      "['Queens', 'Edgemere', 40.595641807368494, -73.77613282391705]\n",
      "( 178 / 306 ) Brazilian Restaurants in Arverne, Queens:0\n",
      "['Queens', 'Arverne', 40.58914394372971, -73.79199233136943]\n",
      "( 179 / 306 ) Brazilian Restaurants in Rockaway Beach, Queens:0\n",
      "['Queens', 'Rockaway Beach', 40.582801696845586, -73.82236121088751]\n",
      "( 180 / 306 ) Brazilian Restaurants in Neponsit, Queens:0\n",
      "['Queens', 'Neponsit', 40.572036730217015, -73.85754672410827]\n",
      "( 181 / 306 ) Brazilian Restaurants in Murray Hill, Queens:0\n",
      "['Queens', 'Murray Hill', 40.764126122614066, -73.81276269135866]\n",
      "( 182 / 306 ) Brazilian Restaurants in Floral Park, Queens:0\n",
      "['Queens', 'Floral Park', 40.741378421945434, -73.70884705889246]\n",
      "( 183 / 306 ) Brazilian Restaurants in Holliswood, Queens:0\n",
      "['Queens', 'Holliswood', 40.7209572076444, -73.76714166714729]\n",
      "( 184 / 306 ) Brazilian Restaurants in Jamaica Estates, Queens:0\n",
      "['Queens', 'Jamaica Estates', 40.71680483014613, -73.7872269693666]\n",
      "( 185 / 306 ) Brazilian Restaurants in Queensboro Hill, Queens:0\n",
      "['Queens', 'Queensboro Hill', 40.7445723092867, -73.82580915110559]\n",
      "( 186 / 306 ) Brazilian Restaurants in Hillcrest, Queens:0\n",
      "['Queens', 'Hillcrest', 40.723824901829204, -73.79760300912672]\n",
      "( 187 / 306 ) Brazilian Restaurants in Ravenswood, Queens:0\n",
      "['Queens', 'Ravenswood', 40.761704526054146, -73.93157506072878]\n",
      "( 188 / 306 ) Brazilian Restaurants in Lindenwood, Queens:0\n",
      "['Queens', 'Lindenwood', 40.66391841925139, -73.84963782402441]\n",
      "( 189 / 306 ) Brazilian Restaurants in Laurelton, Queens:0\n",
      "['Queens', 'Laurelton', 40.66788389660247, -73.74025607989822]\n",
      "( 190 / 306 ) Brazilian Restaurants in Lefrak City, Queens:0\n",
      "['Queens', 'Lefrak City', 40.736074570830795, -73.8625247141374]\n",
      "( 191 / 306 ) Brazilian Restaurants in Belle Harbor, Queens:0\n",
      "['Queens', 'Belle Harbor', 40.57615556543109, -73.8540175039252]\n",
      "( 192 / 306 ) Brazilian Restaurants in Rockaway Park, Queens:0\n",
      "['Queens', 'Rockaway Park', 40.58034295646131, -73.84153370226186]\n",
      "( 193 / 306 ) Brazilian Restaurants in Somerville, Queens:0\n",
      "['Queens', 'Somerville', 40.59771061565768, -73.79664750844047]\n"
     ]
    },
    {
     "name": "stdout",
     "output_type": "stream",
     "text": [
      "( 194 / 306 ) Brazilian Restaurants in Brookville, Queens:0\n",
      "['Queens', 'Brookville', 40.66000322733613, -73.75175310731153]\n",
      "( 195 / 306 ) Brazilian Restaurants in Bellaire, Queens:0\n",
      "['Queens', 'Bellaire', 40.73301404027834, -73.73889198912481]\n",
      "( 196 / 306 ) Brazilian Restaurants in North Corona, Queens:0\n",
      "['Queens', 'North Corona', 40.7540709990489, -73.85751790676447]\n",
      "( 197 / 306 ) Brazilian Restaurants in Forest Hills Gardens, Queens:0\n",
      "['Queens', 'Forest Hills Gardens', 40.7146110815117, -73.8410221123401]\n",
      "( 198 / 306 ) Brazilian Restaurants in St. George, Staten Island:0\n",
      "['Staten Island', 'St. George', 40.6449815710044, -74.07935312512797]\n",
      "( 199 / 306 ) Brazilian Restaurants in New Brighton, Staten Island:0\n",
      "['Staten Island', 'New Brighton', 40.64061455913511, -74.08701650516625]\n",
      "( 200 / 306 ) Brazilian Restaurants in Stapleton, Staten Island:0\n",
      "['Staten Island', 'Stapleton', 40.62692762538176, -74.07790192660066]\n",
      "( 201 / 306 ) Brazilian Restaurants in Rosebank, Staten Island:0\n",
      "['Staten Island', 'Rosebank', 40.61530494652761, -74.06980526716141]\n",
      "( 202 / 306 ) Brazilian Restaurants in West Brighton, Staten Island:0\n",
      "['Staten Island', 'West Brighton', 40.63187892654607, -74.1071817826561]\n",
      "( 203 / 306 ) Brazilian Restaurants in Grymes Hill, Staten Island:0\n",
      "['Staten Island', 'Grymes Hill', 40.624184791313006, -74.08724819983729]\n",
      "( 204 / 306 ) Brazilian Restaurants in Todt Hill, Staten Island:0\n",
      "['Staten Island', 'Todt Hill', 40.59706851814673, -74.1113288180088]\n",
      "( 205 / 306 ) Brazilian Restaurants in South Beach, Staten Island:0\n",
      "['Staten Island', 'South Beach', 40.58024741350956, -74.0795529253982]\n",
      "( 206 / 306 ) Brazilian Restaurants in Port Richmond, Staten Island:0\n",
      "['Staten Island', 'Port Richmond', 40.63366930554365, -74.12943426797008]\n",
      "( 207 / 306 ) Brazilian Restaurants in Mariner's Harbor, Staten Island:0\n",
      "['Staten Island', \"Mariner's Harbor\", 40.632546390481124, -74.15008537046981]\n",
      "( 208 / 306 ) Brazilian Restaurants in Port Ivory, Staten Island:0\n",
      "['Staten Island', 'Port Ivory', 40.63968297845542, -74.17464532993542]\n",
      "( 209 / 306 ) Brazilian Restaurants in Castleton Corners, Staten Island:0\n",
      "['Staten Island', 'Castleton Corners', 40.61333593766742, -74.11918058534842]\n",
      "( 210 / 306 ) Brazilian Restaurants in New Springville, Staten Island:0\n",
      "['Staten Island', 'New Springville', 40.594252379161695, -74.16496031329827]\n",
      "( 211 / 306 ) Brazilian Restaurants in Travis, Staten Island:0\n",
      "['Staten Island', 'Travis', 40.58631375103281, -74.19073717538116]\n",
      "( 212 / 306 ) Brazilian Restaurants in New Dorp, Staten Island:0\n",
      "['Staten Island', 'New Dorp', 40.57257231820632, -74.1164794360638]\n",
      "( 213 / 306 ) Brazilian Restaurants in Oakwood, Staten Island:0\n",
      "['Staten Island', 'Oakwood', 40.5584622432888, -74.12156593771896]\n",
      "( 214 / 306 ) Brazilian Restaurants in Great Kills, Staten Island:0\n",
      "['Staten Island', 'Great Kills', 40.549480228713605, -74.14932381490992]\n",
      "( 215 / 306 ) Brazilian Restaurants in Eltingville, Staten Island:0\n",
      "['Staten Island', 'Eltingville', 40.542230747450745, -74.1643308041936]\n",
      "( 216 / 306 ) Brazilian Restaurants in Annadale, Staten Island:0\n",
      "['Staten Island', 'Annadale', 40.53811417474507, -74.17854866165878]\n",
      "( 217 / 306 ) Brazilian Restaurants in Woodrow, Staten Island:0\n",
      "['Staten Island', 'Woodrow', 40.541967622888755, -74.20524582480326]\n",
      "( 218 / 306 ) Brazilian Restaurants in Tottenville, Staten Island:0\n",
      "['Staten Island', 'Tottenville', 40.50533376115642, -74.24656934235283]\n",
      "( 219 / 306 ) Brazilian Restaurants in Tompkinsville, Staten Island:0\n",
      "['Staten Island', 'Tompkinsville', 40.637316067110326, -74.08055351790115]\n",
      "( 220 / 306 ) Brazilian Restaurants in Silver Lake, Staten Island:0\n",
      "['Staten Island', 'Silver Lake', 40.61919310792676, -74.09629029235458]\n",
      "( 221 / 306 ) Brazilian Restaurants in Sunnyside, Staten Island:0\n",
      "['Staten Island', 'Sunnyside', 40.61276015756489, -74.0971255217853]\n",
      "( 222 / 306 ) Brazilian Restaurants in Ditmas Park, Brooklyn:0\n",
      "['Brooklyn', 'Ditmas Park', 40.643675183340974, -73.96101312466779]\n",
      "( 223 / 306 ) Brazilian Restaurants in Wingate, Brooklyn:0\n",
      "['Brooklyn', 'Wingate', 40.66094656188111, -73.93718680559314]\n",
      "( 224 / 306 ) Brazilian Restaurants in Rugby, Brooklyn:0\n",
      "['Brooklyn', 'Rugby', 40.655572313280764, -73.92688212616955]\n",
      "( 225 / 306 ) Brazilian Restaurants in Park Hill, Staten Island:0\n",
      "['Staten Island', 'Park Hill', 40.60919044434558, -74.08015734936296]\n",
      "( 226 / 306 ) Brazilian Restaurants in Westerleigh, Staten Island:0\n",
      "['Staten Island', 'Westerleigh', 40.62109047275409, -74.13304143951704]\n",
      "( 227 / 306 ) Brazilian Restaurants in Graniteville, Staten Island:0\n",
      "['Staten Island', 'Graniteville', 40.620171512231884, -74.15315246387762]\n",
      "( 228 / 306 ) Brazilian Restaurants in Arlington, Staten Island:0\n",
      "['Staten Island', 'Arlington', 40.63532509911492, -74.16510420241124]\n",
      "( 229 / 306 ) Brazilian Restaurants in Arrochar, Staten Island:0\n",
      "['Staten Island', 'Arrochar', 40.596312571276734, -74.06712363225574]\n",
      "( 230 / 306 ) Brazilian Restaurants in Grasmere, Staten Island:0\n",
      "['Staten Island', 'Grasmere', 40.59826835959991, -74.0766743627905]\n",
      "( 231 / 306 ) Brazilian Restaurants in Old Town, Staten Island:0\n",
      "['Staten Island', 'Old Town', 40.59632891379513, -74.08751118005578]\n",
      "( 232 / 306 ) Brazilian Restaurants in Dongan Hills, Staten Island:0\n",
      "['Staten Island', 'Dongan Hills', 40.588672948199275, -74.09639905312521]\n",
      "( 233 / 306 ) Brazilian Restaurants in Midland Beach, Staten Island:0\n",
      "['Staten Island', 'Midland Beach', 40.57352690574283, -74.09348266303591]\n",
      "( 234 / 306 ) Brazilian Restaurants in Grant City, Staten Island:0\n",
      "['Staten Island', 'Grant City', 40.57621558711788, -74.10585598545434]\n",
      "( 235 / 306 ) Brazilian Restaurants in New Dorp Beach, Staten Island:0\n",
      "['Staten Island', 'New Dorp Beach', 40.56425549307335, -74.10432707469124]\n",
      "( 236 / 306 ) Brazilian Restaurants in Bay Terrace, Staten Island:0\n",
      "['Staten Island', 'Bay Terrace', 40.55398800858462, -74.13916622175768]\n",
      "( 237 / 306 ) Brazilian Restaurants in Huguenot, Staten Island:0\n",
      "['Staten Island', 'Huguenot', 40.531911920489605, -74.19174105747814]\n",
      "( 238 / 306 ) Brazilian Restaurants in Pleasant Plains, Staten Island:0\n",
      "['Staten Island', 'Pleasant Plains', 40.524699376118136, -74.21983106616777]\n",
      "( 239 / 306 ) Brazilian Restaurants in Butler Manor, Staten Island:0\n",
      "['Staten Island', 'Butler Manor', 40.50608165346305, -74.22950350260027]\n",
      "( 240 / 306 ) Brazilian Restaurants in Charleston, Staten Island:0\n",
      "['Staten Island', 'Charleston', 40.53053148283314, -74.23215775896526]\n",
      "( 241 / 306 ) Brazilian Restaurants in Rossville, Staten Island:0\n",
      "['Staten Island', 'Rossville', 40.54940400650072, -74.21572851113952]\n",
      "( 242 / 306 ) Brazilian Restaurants in Arden Heights, Staten Island:0\n",
      "['Staten Island', 'Arden Heights', 40.54928582278321, -74.18588674583893]\n",
      "( 243 / 306 ) Brazilian Restaurants in Greenridge, Staten Island:0\n",
      "['Staten Island', 'Greenridge', 40.555295236173194, -74.17079414786092]\n",
      "( 244 / 306 ) Brazilian Restaurants in Heartland Village, Staten Island:0\n",
      "['Staten Island', 'Heartland Village', 40.58913894875281, -74.15902208156601]\n",
      "( 245 / 306 ) Brazilian Restaurants in Chelsea, Staten Island:0\n",
      "['Staten Island', 'Chelsea', 40.59472602746295, -74.1895604551969]\n",
      "( 246 / 306 ) Brazilian Restaurants in Bloomfield, Staten Island:0\n",
      "['Staten Island', 'Bloomfield', 40.60577868452358, -74.18725638381567]\n",
      "( 247 / 306 ) Brazilian Restaurants in Bulls Head, Staten Island:0\n",
      "['Staten Island', 'Bulls Head', 40.6095918004203, -74.15940948657122]\n",
      "( 248 / 306 ) Brazilian Restaurants in Carnegie Hill, Manhattan:0\n",
      "['Manhattan', 'Carnegie Hill', 40.7826825671257, -73.95325646837112]\n",
      "( 249 / 306 ) Brazilian Restaurants in Noho, Manhattan:0\n",
      "['Manhattan', 'Noho', 40.72325901885768, -73.98843368023597]\n",
      "( 250 / 306 ) Brazilian Restaurants in Civic Center, Manhattan:0\n",
      "['Manhattan', 'Civic Center', 40.71522892046282, -74.00541529873355]\n",
      "( 251 / 306 ) Brazilian Restaurants in Midtown South, Manhattan:0\n",
      "['Manhattan', 'Midtown South', 40.7485096643122, -73.98871313285247]\n",
      "( 252 / 306 ) Brazilian Restaurants in Richmond Town, Staten Island:0\n",
      "['Staten Island', 'Richmond Town', 40.56960594275505, -74.1340572986257]\n",
      "( 253 / 306 ) Brazilian Restaurants in Shore Acres, Staten Island:0\n",
      "['Staten Island', 'Shore Acres', 40.60971934079284, -74.06667766061771]\n"
     ]
    },
    {
     "name": "stdout",
     "output_type": "stream",
     "text": [
      "( 254 / 306 ) Brazilian Restaurants in Clifton, Staten Island:0\n",
      "['Staten Island', 'Clifton', 40.61917845202843, -74.072642445484]\n",
      "( 255 / 306 ) Brazilian Restaurants in Concord, Staten Island:0\n",
      "['Staten Island', 'Concord', 40.6044731896879, -74.08402364740358]\n",
      "( 256 / 306 ) Brazilian Restaurants in Emerson Hill, Staten Island:0\n",
      "['Staten Island', 'Emerson Hill', 40.606794394801, -74.09776206972522]\n",
      "( 257 / 306 ) Brazilian Restaurants in Randall Manor, Staten Island:0\n",
      "['Staten Island', 'Randall Manor', 40.63563000681151, -74.09805062373887]\n",
      "( 258 / 306 ) Brazilian Restaurants in Howland Hook, Staten Island:0\n",
      "['Staten Island', 'Howland Hook', 40.63843283794795, -74.18622331749823]\n",
      "( 259 / 306 ) Brazilian Restaurants in Elm Park, Staten Island:0\n",
      "['Staten Island', 'Elm Park', 40.630146741193826, -74.1418167896889]\n",
      "( 260 / 306 ) Brazilian Restaurants in Remsen Village, Brooklyn:0\n",
      "['Brooklyn', 'Remsen Village', 40.652117451793494, -73.91665331978048]\n",
      "( 261 / 306 ) Brazilian Restaurants in New Lots, Brooklyn:0\n",
      "['Brooklyn', 'New Lots', 40.6627442796966, -73.88511776379292]\n",
      "( 262 / 306 ) Brazilian Restaurants in Paerdegat Basin, Brooklyn:0\n",
      "['Brooklyn', 'Paerdegat Basin', 40.63131755039667, -73.90233474295836]\n",
      "( 263 / 306 ) Brazilian Restaurants in Mill Basin, Brooklyn:0\n",
      "['Brooklyn', 'Mill Basin', 40.61597423962336, -73.91515391550404]\n",
      "( 264 / 306 ) Brazilian Restaurants in Jamaica Hills, Queens:0\n",
      "['Queens', 'Jamaica Hills', 40.71145964370482, -73.79646462081593]\n",
      "( 265 / 306 ) Brazilian Restaurants in Utopia, Queens:0\n",
      "['Queens', 'Utopia', 40.73350025429757, -73.79671678028349]\n",
      "( 266 / 306 ) Brazilian Restaurants in Pomonok, Queens:0\n",
      "['Queens', 'Pomonok', 40.73493618075478, -73.80486120040537]\n",
      "( 267 / 306 ) Brazilian Restaurants in Astoria Heights, Queens:0\n",
      "['Queens', 'Astoria Heights', 40.7703173929982, -73.89467996270574]\n",
      "( 268 / 306 ) Brazilian Restaurants in Claremont Village, Bronx:0\n",
      "['Bronx', 'Claremont Village', 40.83142834161548, -73.90119903387667]\n",
      "( 269 / 306 ) Brazilian Restaurants in Concourse Village, Bronx:0\n",
      "['Bronx', 'Concourse Village', 40.824780490842905, -73.91584652759009]\n",
      "( 270 / 306 ) Brazilian Restaurants in Mount Eden, Bronx:0\n",
      "['Bronx', 'Mount Eden', 40.84382617671654, -73.91655551964419]\n",
      "( 271 / 306 ) Brazilian Restaurants in Mount Hope, Bronx:0\n",
      "['Bronx', 'Mount Hope', 40.84884160724665, -73.90829930881988]\n",
      "( 272 / 306 ) Brazilian Restaurants in Sutton Place, Manhattan:0\n",
      "['Manhattan', 'Sutton Place', 40.76028033131374, -73.96355614094303]\n",
      "( 273 / 306 ) Brazilian Restaurants in Hunters Point, Queens:0\n",
      "['Queens', 'Hunters Point', 40.743414090073536, -73.95386782130745]\n",
      "( 274 / 306 ) Brazilian Restaurants in Turtle Bay, Manhattan:0\n",
      "['Manhattan', 'Turtle Bay', 40.75204236950722, -73.96770824581834]\n",
      "( 275 / 306 ) Brazilian Restaurants in Tudor City, Manhattan:0\n",
      "['Manhattan', 'Tudor City', 40.746917410740195, -73.97121928722265]\n",
      "( 276 / 306 ) Brazilian Restaurants in Stuyvesant Town, Manhattan:0\n",
      "['Manhattan', 'Stuyvesant Town', 40.73099955477061, -73.97405170469203]\n",
      "( 277 / 306 ) Brazilian Restaurants in Flatiron, Manhattan:0\n",
      "['Manhattan', 'Flatiron', 40.739673047638426, -73.9909471052826]\n",
      "( 278 / 306 ) Brazilian Restaurants in Sunnyside Gardens, Queens:0\n",
      "['Queens', 'Sunnyside Gardens', 40.74565180608076, -73.91819286431682]\n",
      "( 279 / 306 ) Brazilian Restaurants in Blissville, Queens:0\n",
      "['Queens', 'Blissville', 40.73725071694497, -73.93244235260178]\n",
      "( 280 / 306 ) Brazilian Restaurants in Fulton Ferry, Brooklyn:0\n",
      "['Brooklyn', 'Fulton Ferry', 40.70328109093014, -73.99550751888415]\n",
      "( 281 / 306 ) Brazilian Restaurants in Vinegar Hill, Brooklyn:0\n",
      "['Brooklyn', 'Vinegar Hill', 40.70332149882874, -73.98111603592393]\n",
      "( 282 / 306 ) Brazilian Restaurants in Weeksville, Brooklyn:0\n",
      "['Brooklyn', 'Weeksville', 40.67503986503237, -73.93053108817338]\n",
      "( 283 / 306 ) Brazilian Restaurants in Broadway Junction, Brooklyn:0\n",
      "['Brooklyn', 'Broadway Junction', 40.67786104769531, -73.90331684852599]\n",
      "( 284 / 306 ) Brazilian Restaurants in Dumbo, Brooklyn:0\n",
      "['Brooklyn', 'Dumbo', 40.70317632822692, -73.9887528074504]\n",
      "( 285 / 306 ) Brazilian Restaurants in Manor Heights, Staten Island:0\n",
      "['Staten Island', 'Manor Heights', 40.60180957631444, -74.12059399718001]\n",
      "( 286 / 306 ) Brazilian Restaurants in Willowbrook, Staten Island:0\n",
      "['Staten Island', 'Willowbrook', 40.60370692627371, -74.13208447484298]\n",
      "( 287 / 306 ) Brazilian Restaurants in Sandy Ground, Staten Island:0\n",
      "['Staten Island', 'Sandy Ground', 40.541139922091766, -74.21776636068567]\n",
      "( 288 / 306 ) Brazilian Restaurants in Egbertville, Staten Island:0\n",
      "['Staten Island', 'Egbertville', 40.579118742961214, -74.12727240604946]\n",
      "( 289 / 306 ) Brazilian Restaurants in Roxbury, Queens:0\n",
      "['Queens', 'Roxbury', 40.56737588957032, -73.89213760232822]\n",
      "( 290 / 306 ) Brazilian Restaurants in Homecrest, Brooklyn:0\n",
      "['Brooklyn', 'Homecrest', 40.598525095137255, -73.95918459428702]\n",
      "( 291 / 306 ) Brazilian Restaurants in Middle Village, Queens:0\n",
      "['Queens', 'Middle Village', 40.716414511158185, -73.88114319200604]\n",
      "( 292 / 306 ) Brazilian Restaurants in Prince's Bay, Staten Island:0\n",
      "['Staten Island', \"Prince's Bay\", 40.52626406734812, -74.20152556457658]\n",
      "( 293 / 306 ) Brazilian Restaurants in Lighthouse Hill, Staten Island:0\n",
      "['Staten Island', 'Lighthouse Hill', 40.57650629379489, -74.13792663771568]\n",
      "( 294 / 306 ) Brazilian Restaurants in Richmond Valley, Staten Island:0\n",
      "['Staten Island', 'Richmond Valley', 40.51954145748909, -74.22957080626941]\n",
      "( 295 / 306 ) Brazilian Restaurants in Malba, Queens:0\n",
      "['Queens', 'Malba', 40.79060155670148, -73.82667757138641]\n",
      "( 296 / 306 ) Brazilian Restaurants in Highland Park, Brooklyn:0\n",
      "['Brooklyn', 'Highland Park', 40.6819989345173, -73.890345709872]\n",
      "( 297 / 306 ) Brazilian Restaurants in Madison, Brooklyn:0\n",
      "['Brooklyn', 'Madison', 40.60937770113766, -73.94841515328893]\n",
      "( 298 / 306 ) Brazilian Restaurants in Bronxdale, Bronx:0\n",
      "['Bronx', 'Bronxdale', 40.85272297633017, -73.86172577555115]\n",
      "( 299 / 306 ) Brazilian Restaurants in Allerton, Bronx:0\n",
      "['Bronx', 'Allerton', 40.86578787802982, -73.85931863221647]\n",
      "( 300 / 306 ) Brazilian Restaurants in Kingsbridge Heights, Bronx:0\n",
      "['Bronx', 'Kingsbridge Heights', 40.8703923914147, -73.90152264513144]\n",
      "( 301 / 306 ) Brazilian Restaurants in Erasmus, Brooklyn:0\n",
      "['Brooklyn', 'Erasmus', 40.64692606658579, -73.94817709920184]\n",
      "( 302 / 306 ) Brazilian Restaurants in Hudson Yards, Manhattan:0\n",
      "['Manhattan', 'Hudson Yards', 40.75665808227519, -74.00011136202637]\n",
      "( 303 / 306 ) Brazilian Restaurants in Hammels, Queens:0\n",
      "['Queens', 'Hammels', 40.58733774018741, -73.80553002968718]\n",
      "( 304 / 306 ) Brazilian Restaurants in Bayswater, Queens:0\n",
      "['Queens', 'Bayswater', 40.611321691283834, -73.76596781445627]\n",
      "( 305 / 306 ) Brazilian Restaurants in Queensbridge, Queens:0\n",
      "['Queens', 'Queensbridge', 40.756091297094706, -73.94563070334091]\n",
      "( 306 / 306 ) Brazilian Restaurants in Fox Hills, Staten Island:0\n",
      "['Staten Island', 'Fox Hills', 40.61731079252983, -74.08173992211962]\n"
     ]
    }
   ],
   "source": [
    "# queens has most neighborhoods\n",
    "# prepare neighborhood list that contains brazilian restaurants\n",
    "column_names=['Borough', 'Neighborhood', 'ID','Name']\n",
    "brazilian_rest_ny=pd.DataFrame(columns=column_names)\n",
    "count=1\n",
    "for row in ny_data.values.tolist():\n",
    "    Borough, Neighborhood, Latitude, Longitude=row\n",
    "    venues = get_venues(Latitude,Longitude)\n",
    "    brazilian_restaurants=venues[venues['Category']=='Brazilian Restaurant']   \n",
    "    print('(',count,'/',len(ny_data),')','Brazilian Restaurants in '+Neighborhood+', '+Borough+':'+str(len(brazilian_restaurants)))\n",
    "    print(row)\n",
    "    for resturant_detail in brazilian_restaurants.values.tolist():\n",
    "        id, name , category=resturant_detail\n",
    "        brazilian_rest_ny = brazilian_rest_ny.append({'Borough': Borough,\n",
    "                                                'Neighborhood': Neighborhood, \n",
    "                                                'ID': id,\n",
    "                                                'Name' : name\n",
    "                                               }, ignore_index=True)\n",
    "    count+=1"
   ]
  },
  {
   "cell_type": "code",
   "execution_count": 42,
   "metadata": {},
   "outputs": [],
   "source": [
    "#brazilian_rest_ny.to_csv('brazilian_rest_ny_tocsv1.csv')\n",
    "# Save the information so far to a .csv file due to limited calls on FourSquare\n",
    "brazilian_rest_ny.to_csv('brazilian_rest_ny_tocsv1.csv')"
   ]
  },
  {
   "cell_type": "code",
   "execution_count": 13,
   "metadata": {},
   "outputs": [
    {
     "data": {
      "text/html": [
       "<div>\n",
       "<style scoped>\n",
       "    .dataframe tbody tr th:only-of-type {\n",
       "        vertical-align: middle;\n",
       "    }\n",
       "\n",
       "    .dataframe tbody tr th {\n",
       "        vertical-align: top;\n",
       "    }\n",
       "\n",
       "    .dataframe thead th {\n",
       "        text-align: right;\n",
       "    }\n",
       "</style>\n",
       "<table border=\"1\" class=\"dataframe\">\n",
       "  <thead>\n",
       "    <tr style=\"text-align: right;\">\n",
       "      <th></th>\n",
       "      <th>Borough</th>\n",
       "      <th>Neighborhood</th>\n",
       "      <th>ID</th>\n",
       "      <th>Name</th>\n",
       "    </tr>\n",
       "  </thead>\n",
       "  <tbody>\n",
       "    <tr>\n",
       "      <th>0</th>\n",
       "      <td>Manhattan</td>\n",
       "      <td>West Village</td>\n",
       "      <td>3fd66200f964a52008e71ee3</td>\n",
       "      <td>Casa</td>\n",
       "    </tr>\n",
       "    <tr>\n",
       "      <th>1</th>\n",
       "      <td>Queens</td>\n",
       "      <td>Astoria</td>\n",
       "      <td>4bdf502a89ca76b062b75d5e</td>\n",
       "      <td>Favela Grill</td>\n",
       "    </tr>\n",
       "  </tbody>\n",
       "</table>\n",
       "</div>"
      ],
      "text/plain": [
       "     Borough  Neighborhood                        ID          Name\n",
       "0  Manhattan  West Village  3fd66200f964a52008e71ee3          Casa\n",
       "1     Queens       Astoria  4bdf502a89ca76b062b75d5e  Favela Grill"
      ]
     },
     "execution_count": 13,
     "metadata": {},
     "output_type": "execute_result"
    }
   ],
   "source": [
    "brazilian_ny = pd.read_csv('brazilian_rest_ny_tocsv1.csv')\n",
    "brazilian_rest_ny.tail()"
   ]
  },
  {
   "cell_type": "code",
   "execution_count": 14,
   "metadata": {},
   "outputs": [
    {
     "data": {
      "text/plain": [
       "(2, 4)"
      ]
     },
     "execution_count": 14,
     "metadata": {},
     "output_type": "execute_result"
    }
   ],
   "source": [
    "brazilian_rest_ny.shape"
   ]
  },
  {
   "cell_type": "markdown",
   "metadata": {},
   "source": [
    "There are only two brazilian restaurants in NYC, even though the brazilian population reachs its tens of thousands in the City.\n",
    "\n",
    "At least, that is the information retrieved. It is possible that there are many other restaurants that are not classified as \"brazilian restaurant\".\n",
    "\n",
    "These are commom issues in data science. We will work with these two instances of data and try to get the most of them."
   ]
  },
  {
   "cell_type": "code",
   "execution_count": 17,
   "metadata": {},
   "outputs": [
    {
     "data": {
      "image/png": "[encoded data removed]",
      "text/plain": [
       "<Figure size 720x360 with 1 Axes>"
      ]
     },
     "metadata": {
      "needs_background": "light"
     },
     "output_type": "display_data"
    }
   ],
   "source": [
    "brazilian_rest_ny.groupby('Borough')['ID'].count().plot.bar(figsize=(10,5), color=clr)\n",
    "plt.title('Brazilian Restaurants per Borough: NYC', fontsize = 20)\n",
    "plt.xlabel('Borough', fontsize = 15)\n",
    "plt.ylabel('No. of Brazilian Restaurants', fontsize=15)\n",
    "plt.xticks(rotation = 'horizontal')\n",
    "plt.legend()\n",
    "plt.show()"
   ]
  },
  {
   "cell_type": "code",
   "execution_count": 18,
   "metadata": {},
   "outputs": [
    {
     "data": {
      "image/png": "[encoded data removed]",
      "text/plain": [
       "<Figure size 720x360 with 1 Axes>"
      ]
     },
     "metadata": {
      "needs_background": "light"
     },
     "output_type": "display_data"
    }
   ],
   "source": [
    "NOofNeigh = 2 # top number for graphing all the same past 2\n",
    "brazilian_rest_ny.groupby('Neighborhood')['ID'].count().nlargest(NOofNeigh).plot.bar(figsize=(10,5), color=clr)\n",
    "plt.title('Brazilian Restaurants per Neighborhood: NYC', fontsize = 20)\n",
    "plt.xlabel('Neighborhood', fontsize = 15)\n",
    "plt.ylabel('No. of Brazilian Restaurants', fontsize=15)\n",
    "plt.xticks(rotation = 'horizontal')\n",
    "plt.legend()\n",
    "plt.show()"
   ]
  },
  {
   "cell_type": "markdown",
   "metadata": {},
   "source": [
    "One of the restaurants is located at West Village, Manhattan, while the other is in Astoria, Queens.\n",
    "\n",
    "While many Brazilians have dispersed throughout the city, Astoria seems to be the main home of Brazilians in NYC. It is expected that we would find a brazilian restaurant there.\n",
    "\n",
    "West Village's option may be more related to touristic activities, considering it is on the Manhattan Borough."
   ]
  },
  {
   "cell_type": "code",
   "execution_count": 19,
   "metadata": {},
   "outputs": [
    {
     "data": {
      "text/html": [
       "<div>\n",
       "<style scoped>\n",
       "    .dataframe tbody tr th:only-of-type {\n",
       "        vertical-align: middle;\n",
       "    }\n",
       "\n",
       "    .dataframe tbody tr th {\n",
       "        vertical-align: top;\n",
       "    }\n",
       "\n",
       "    .dataframe thead th {\n",
       "        text-align: right;\n",
       "    }\n",
       "</style>\n",
       "<table border=\"1\" class=\"dataframe\">\n",
       "  <thead>\n",
       "    <tr style=\"text-align: right;\">\n",
       "      <th></th>\n",
       "      <th>Borough</th>\n",
       "      <th>Neighborhood</th>\n",
       "      <th>ID</th>\n",
       "      <th>Name</th>\n",
       "    </tr>\n",
       "  </thead>\n",
       "  <tbody>\n",
       "    <tr>\n",
       "      <th>1</th>\n",
       "      <td>Queens</td>\n",
       "      <td>Astoria</td>\n",
       "      <td>4bdf502a89ca76b062b75d5e</td>\n",
       "      <td>Favela Grill</td>\n",
       "    </tr>\n",
       "  </tbody>\n",
       "</table>\n",
       "</div>"
      ],
      "text/plain": [
       "  Borough Neighborhood                        ID          Name\n",
       "1  Queens      Astoria  4bdf502a89ca76b062b75d5e  Favela Grill"
      ]
     },
     "execution_count": 19,
     "metadata": {},
     "output_type": "execute_result"
    }
   ],
   "source": [
    "brazilian_rest_ny[brazilian_rest_ny['Neighborhood']=='Astoria']"
   ]
  },
  {
   "cell_type": "code",
   "execution_count": 20,
   "metadata": {
    "scrolled": true
   },
   "outputs": [
    {
     "data": {
      "text/html": [
       "<div>\n",
       "<style scoped>\n",
       "    .dataframe tbody tr th:only-of-type {\n",
       "        vertical-align: middle;\n",
       "    }\n",
       "\n",
       "    .dataframe tbody tr th {\n",
       "        vertical-align: top;\n",
       "    }\n",
       "\n",
       "    .dataframe thead th {\n",
       "        text-align: right;\n",
       "    }\n",
       "</style>\n",
       "<table border=\"1\" class=\"dataframe\">\n",
       "  <thead>\n",
       "    <tr style=\"text-align: right;\">\n",
       "      <th></th>\n",
       "      <th>Borough</th>\n",
       "      <th>Neighborhood</th>\n",
       "      <th>ID</th>\n",
       "      <th>Name</th>\n",
       "    </tr>\n",
       "  </thead>\n",
       "  <tbody>\n",
       "    <tr>\n",
       "      <th>0</th>\n",
       "      <td>Manhattan</td>\n",
       "      <td>West Village</td>\n",
       "      <td>3fd66200f964a52008e71ee3</td>\n",
       "      <td>Casa</td>\n",
       "    </tr>\n",
       "  </tbody>\n",
       "</table>\n",
       "</div>"
      ],
      "text/plain": [
       "     Borough  Neighborhood                        ID  Name\n",
       "0  Manhattan  West Village  3fd66200f964a52008e71ee3  Casa"
      ]
     },
     "execution_count": 20,
     "metadata": {},
     "output_type": "execute_result"
    }
   ],
   "source": [
    "brazilian_rest_ny[brazilian_rest_ny['Neighborhood']=='West Village']"
   ]
  },
  {
   "cell_type": "markdown",
   "metadata": {},
   "source": [
    "### Evaluating both restaurants"
   ]
  },
  {
   "cell_type": "code",
   "execution_count": 21,
   "metadata": {},
   "outputs": [
    {
     "name": "stdout",
     "output_type": "stream",
     "text": [
      "{'meta': {'code': 200, 'requestId': '5fb28db6726940047dc38242'}, 'response': {'venue': {'id': '3fd66200f964a52008e71ee3', 'name': 'Casa', 'contact': {'phone': '2123669410', 'formattedPhone': '(212) 366-9410'}, 'location': {'address': '72 Bedford St', 'crossStreet': 'Commerce', 'lat': 40.731493, 'lng': -74.004825, 'labeledLatLngs': [{'label': 'entrance', 'lat': 40.731463, 'lng': -74.004819}, {'label': 'display', 'lat': 40.731493, 'lng': -74.004825}], 'postalCode': '10014', 'cc': 'US', 'city': 'New York', 'state': 'NY', 'country': 'United States', 'formattedAddress': ['72 Bedford St (Commerce)', 'New York, NY 10014', 'United States']}, 'canonicalUrl': 'https://foursquare.com/v/casa/3fd66200f964a52008e71ee3', 'categories': [{'id': '4bf58dd8d48988d16b941735', 'name': 'Brazilian Restaurant', 'pluralName': 'Brazilian Restaurants', 'shortName': 'Brazilian', 'icon': {'prefix': 'https://ss3.4sqi.net/img/categories_v2/food/argentinian_', 'suffix': '.png'}, 'primary': True}, {'id': '4def73e84765ae376e57713a', 'name': 'Portuguese Restaurant', 'pluralName': 'Portuguese Restaurants', 'shortName': 'Portuguese', 'icon': {'prefix': 'https://ss3.4sqi.net/img/categories_v2/food/portuguese_', 'suffix': '.png'}}, {'id': '52e81612bcbc57f1066b7a00', 'name': 'Comfort Food Restaurant', 'pluralName': 'Comfort Food Restaurants', 'shortName': 'Comfort Food', 'icon': {'prefix': 'https://ss3.4sqi.net/img/categories_v2/food/default_', 'suffix': '.png'}}], 'verified': False, 'stats': {'tipCount': 66}, 'url': 'http://www.casarestaurant.com', 'price': {'tier': 2, 'message': 'Moderate', 'currency': '$'}, 'hasMenu': True, 'likes': {'count': 194, 'groups': [{'type': 'others', 'count': 194, 'items': []}], 'summary': '194 Likes'}, 'dislike': False, 'ok': False, 'rating': 8.7, 'ratingColor': '73CF42', 'ratingSignals': 284, 'delivery': {'id': '306824', 'url': 'https://www.seamless.com/menu/casa-brazilian-restaurant-72-bedford-st-new-york/306824?affiliate=1131&utm_source=foursquare-affiliate-network&utm_medium=affiliate&utm_campaign=1131&utm_content=306824', 'provider': {'name': 'seamless', 'icon': {'prefix': 'https://fastly.4sqi.net/img/general/cap/', 'sizes': [40, 50], 'name': '/delivery_provider_seamless_20180129.png'}}}, 'menu': {'type': 'Menu', 'label': 'Menu', 'anchor': 'View Menu', 'url': 'https://foursquare.com/v/casa/3fd66200f964a52008e71ee3/menu', 'mobileUrl': 'https://foursquare.com/v/3fd66200f964a52008e71ee3/device_menu'}, 'allowMenuUrlEdit': True, 'beenHere': {'count': 0, 'unconfirmedCount': 0, 'marked': False, 'lastCheckinExpiredAt': 0}, 'specials': {'count': 0, 'items': []}, 'photos': {'count': 124, 'groups': [{'type': 'venue', 'name': 'Venue photos', 'count': 124, 'items': [{'id': '5282c2de498eafda06ddef1f', 'createdAt': 1384301278, 'source': {'name': 'Foursquare for Android', 'url': 'https://foursquare.com/download/#/android'}, 'prefix': 'https://fastly.4sqi.net/img/general/', 'suffix': '/64769499_Vth1YcsGmhdu4F8na8ueX8s3cNt6wPHN5jPK2-C3qMk.jpg', 'width': 960, 'height': 540, 'user': {'isSanctioned': False, 'firstName': 'Kareem', 'lastName': 'S'}, 'visibility': 'public'}]}]}, 'reasons': {'count': 1, 'items': [{'summary': 'Lots of people like this place', 'type': 'general', 'reasonName': 'rawLikesReason'}]}, 'hereNow': {'count': 0, 'summary': 'Nobody here', 'groups': []}, 'createdAt': 1071014400, 'tips': {'count': 66, 'groups': [{'type': 'others', 'name': 'All tips', 'count': 66, 'items': [{'id': '522e7ee611d28ba7e9708e59', 'createdAt': 1378778854, 'text': \"Get the coconut caipirinha. They've somehow figured out how to extract 300% more coconut from a coconut than that coconut actually contained.\", 'type': 'user', 'canonicalUrl': 'https://foursquare.com/item/522e7ee611d28ba7e9708e59', 'lang': 'en', 'likes': {'count': 5, 'groups': [{'type': 'others', 'count': 5, 'items': [{'isSanctioned': False, 'firstName': 'Nick', 'lastName': 'A'}, {'isSanctioned': False, 'firstName': 'Tw', 'lastName': 'P'}, {'isSanctioned': False, 'firstName': 'Emily', 'lastName': 'R'}, {'isSanctioned': False, 'firstName': 'Michael', 'lastName': 'B'}]}], 'summary': '5 likes'}, 'logView': True, 'agreeCount': 5, 'disagreeCount': 0, 'todo': {'count': 0}, 'user': {'isSanctioned': False, 'firstName': 'Eric', 'lastName': 'L'}}]}]}, 'shortUrl': 'http://4sq.com/7tk8Q7', 'timeZone': 'America/New_York', 'listed': {'count': 379, 'groups': [{'type': 'others', 'name': 'Lists from other people', 'count': 379, 'items': [{'id': '50eb8cfae4b0c1246d011e87', 'name': 'New York - NY', 'description': '', 'type': 'others', 'user': {'isSanctioned': False, 'firstName': 'Guilherme', 'lastName': 'd'}, 'editable': False, 'public': True, 'collaborative': False, 'url': '/user/7579146/list/new-york--ny', 'canonicalUrl': 'https://foursquare.com/user/7579146/list/new-york--ny', 'createdAt': 1357614330, 'updatedAt': 1422827327, 'photo': {'id': '4f6e65fa108187b33596adc7', 'createdAt': 1332635130, 'prefix': 'https://fastly.4sqi.net/img/general/', 'suffix': '/zWG_-YVGOgZUj419kNE5qifx14_CNqK_3ybTJX_A_qg.png', 'width': 300, 'height': 300, 'user': {'isSanctioned': False, 'firstName': 'TugaJumper', 'type': 'page'}, 'visibility': 'public'}, 'followers': {'count': 76}, 'listItems': {'count': 130, 'items': [{'id': 'v3fd66200f964a52008e71ee3', 'createdAt': 1359231618}]}}, {'id': '5790f05e498e465ecfed883f', 'name': \"America's Best Brazilian Restaurants\", 'description': 'Flank steak? Check. Caipirinha? Check. Churrasco? Check! These are America’s top-rated Brazilian restaurants, so you can get your South American grub on.', 'type': 'others', 'user': {'isSanctioned': False, 'firstName': 'Foursquare City Guide', 'type': 'page'}, 'editable': False, 'public': True, 'collaborative': False, 'url': '/foursquare/list/americas-best-brazilian-restaurants', 'canonicalUrl': 'https://foursquare.com/foursquare/list/americas-best-brazilian-restaurants', 'createdAt': 1469116510, 'updatedAt': 1469136227, 'photo': {'id': '5790fbd4498e5be07e8bb4d5', 'createdAt': 1469119444, 'prefix': 'https://fastly.4sqi.net/img/general/', 'suffix': '/23438729_yuLBkOWFE7vHOl5QmTvQAmaORBg7_V2CqinJLpKJdK8.jpg', 'width': 600, 'height': 600, 'user': {'isSanctioned': False, 'firstName': 'Foursquare City Guide', 'type': 'page'}, 'visibility': 'public'}, 'logView': True, 'followers': {'count': 43}, 'listItems': {'count': 25, 'items': [{'id': 't575e75b9498e15a12c31d2cc', 'createdAt': 1469119771, 'photo': {'id': '51f3f588498e55d904d60cb9', 'createdAt': 1374942600, 'prefix': 'https://fastly.4sqi.net/img/general/', 'suffix': '/93575_mH6YQfzw3Ki3WVgJgk3trQjZWaaoBq5fbZHuOapsjYA.jpg', 'width': 612, 'height': 612, 'user': {'isSanctioned': False, 'firstName': 'Tracey', 'lastName': 'J'}, 'visibility': 'public'}}]}}, {'id': '4e5d06dd7d8bcd38b7dc0f69', 'name': 'NYC Restaurant Master List', 'description': 'There is something for everybody here. My only suggestion is to be brave and try new places rather than being a creature of habit. Now go out there and eat! *AJB', 'type': 'others', 'user': {'isSanctioned': False, 'firstName': '@JaumePrimero', 'type': 'page'}, 'editable': False, 'public': True, 'collaborative': False, 'url': '/p/jaumeprimero/810485/list/nyc-restaurant-master-list', 'canonicalUrl': 'https://foursquare.com/p/jaumeprimero/810485/list/nyc-restaurant-master-list', 'createdAt': 1314719453, 'updatedAt': 1399554491, 'photo': {'id': '51cf71cd498e160467b9bb85', 'createdAt': 1372549581, 'prefix': 'https://fastly.4sqi.net/img/general/', 'suffix': '/32789014_n0_lXHBdmXERU65H223t2XUuHyo3keM5OvtWP9m9kwQ.jpg', 'width': 612, 'height': 612, 'user': {'isSanctioned': False, 'firstName': 'inkpushco'}, 'visibility': 'public'}, 'logView': True, 'followers': {'count': 213}, 'listItems': {'count': 111, 'items': [{'id': 't51e0b43f498ec9be23e7f46d', 'createdAt': 1380032207, 'photo': {'id': '5169774fe4b01155204f572e', 'createdAt': 1365866319, 'prefix': 'https://fastly.4sqi.net/img/general/', 'suffix': '/48476_nXiYr-KcQAYWOFCu9OiWocOmwxNlYckRaHH1GucMBEk.jpg', 'width': 1920, 'height': 1440, 'user': {'isSanctioned': False, 'firstName': 'Joshua'}, 'visibility': 'public'}}]}}, {'id': '4e5ea911aeb78833bb8fb3fb', 'name': 'Eat', 'description': \"Put down your laptop and pick up your fork… it's time to chow down.\", 'type': 'others', 'user': {'isSanctioned': False, 'firstName': 'Razorfish', 'type': 'page'}, 'editable': False, 'public': True, 'collaborative': False, 'url': '/p/razorfish/13160307/list/eat', 'canonicalUrl': 'https://foursquare.com/p/razorfish/13160307/list/eat', 'createdAt': 1314826513, 'updatedAt': 1405970384, 'logView': True, 'followers': {'count': 59}, 'listItems': {'count': 71, 'items': [{'id': 't4e78d921c65b8073f5ad7d91', 'createdAt': 1316542742}]}}]}]}, 'popular': {'isOpen': False, 'isLocalHoliday': False, 'timeframes': [{'days': 'Today', 'includesToday': True, 'open': [{'renderedTime': '6:00 PM–10:00 PM'}], 'segments': []}, {'days': 'Tue–Fri', 'open': [{'renderedTime': '6:00 PM–11:00 PM'}], 'segments': []}, {'days': 'Sat', 'open': [{'renderedTime': 'Noon–11:00 PM'}], 'segments': []}, {'days': 'Sun', 'open': [{'renderedTime': '11:00 AM–10:00 PM'}], 'segments': []}]}, 'seasonalHours': [], 'pageUpdates': {'count': 0, 'items': []}, 'inbox': {'count': 0, 'items': []}, 'attributes': {'groups': [{'type': 'price', 'name': 'Price', 'summary': '$$', 'count': 1, 'items': [{'displayName': 'Price', 'displayValue': '$$', 'priceTier': 2}]}, {'type': 'reservations', 'name': 'Reservations', 'summary': 'Reservations', 'count': 3, 'items': [{'displayName': 'Reservations', 'displayValue': 'Yes'}]}, {'type': 'payments', 'name': 'Credit Cards', 'summary': 'Credit Cards', 'count': 7, 'items': [{'displayName': 'Credit Cards', 'displayValue': 'Yes (incl. Discover & Visa)'}]}, {'type': 'outdoorSeating', 'name': 'Outdoor Seating', 'count': 1, 'items': [{'displayName': 'Outdoor Seating', 'displayValue': 'No'}]}, {'type': 'wifi', 'name': 'Wi-Fi', 'summary': 'Wi-Fi', 'count': 1, 'items': [{'displayName': 'Wi-Fi', 'displayValue': 'Yes'}]}, {'type': 'serves', 'name': 'Menus', 'summary': 'Dinner, Lunch & more', 'count': 8, 'items': [{'displayName': 'Brunch', 'displayValue': 'Brunch'}, {'displayName': 'Lunch', 'displayValue': 'Lunch'}, {'displayName': 'Dinner', 'displayValue': 'Dinner'}]}, {'type': 'drinks', 'name': 'Drinks', 'summary': 'Full Bar', 'count': 5, 'items': [{'displayName': 'Full Bar', 'displayValue': 'Full Bar'}]}]}, 'bestPhoto': {'id': '5282c2de498eafda06ddef1f', 'createdAt': 1384301278, 'source': {'name': 'Foursquare for Android', 'url': 'https://foursquare.com/download/#/android'}, 'prefix': 'https://fastly.4sqi.net/img/general/', 'suffix': '/64769499_Vth1YcsGmhdu4F8na8ueX8s3cNt6wPHN5jPK2-C3qMk.jpg', 'width': 960, 'height': 540, 'visibility': 'public'}, 'colors': {'highlightColor': {'photoId': '5282c2de498eafda06ddef1f', 'value': -15202296}, 'highlightTextColor': {'photoId': '5282c2de498eafda06ddef1f', 'value': -1}, 'algoVersion': 3}}}}\n",
      "                         ID  Name  Likes  Rating  Tips\n",
      "0  3fd66200f964a52008e71ee3  Casa    194     8.7    66\n",
      "( 1 / 2 ) processed\n"
     ]
    },
    {
     "name": "stdout",
     "output_type": "stream",
     "text": [
      "{'meta': {'code': 200, 'requestId': '5fb28db64450ba020e99731b'}, 'response': {'venue': {'id': '4bdf502a89ca76b062b75d5e', 'name': 'Favela Grill', 'contact': {'phone': '7185458250', 'formattedPhone': '(718) 545-8250'}, 'location': {'address': '33-18 28th Ave', 'crossStreet': 'btwn 33rd & 34th St.', 'lat': 40.76734843380796, 'lng': -73.91789747356819, 'labeledLatLngs': [{'label': 'display', 'lat': 40.76734843380796, 'lng': -73.91789747356819}], 'postalCode': '11103', 'cc': 'US', 'city': 'Astoria', 'state': 'NY', 'country': 'United States', 'formattedAddress': ['33-18 28th Ave (btwn 33rd & 34th St.)', 'Astoria, NY 11103', 'United States']}, 'canonicalUrl': 'https://foursquare.com/v/favela-grill/4bdf502a89ca76b062b75d5e', 'categories': [{'id': '4bf58dd8d48988d16b941735', 'name': 'Brazilian Restaurant', 'pluralName': 'Brazilian Restaurants', 'shortName': 'Brazilian', 'icon': {'prefix': 'https://ss3.4sqi.net/img/categories_v2/food/argentinian_', 'suffix': '.png'}, 'primary': True}], 'verified': False, 'stats': {'tipCount': 57}, 'url': 'http://www.favelagrill.com', 'price': {'tier': 2, 'message': 'Moderate', 'currency': '$'}, 'hasMenu': True, 'likes': {'count': 86, 'groups': [{'type': 'others', 'count': 86, 'items': []}], 'summary': '86 Likes'}, 'dislike': False, 'ok': False, 'rating': 8.4, 'ratingColor': '73CF42', 'ratingSignals': 137, 'delivery': {'id': '289413', 'url': 'https://www.seamless.com/menu/favela-brazilian-cuisine-33-18-28th-ave-astoria/289413?affiliate=1131&utm_source=foursquare-affiliate-network&utm_medium=affiliate&utm_campaign=1131&utm_content=289413', 'provider': {'name': 'seamless', 'icon': {'prefix': 'https://fastly.4sqi.net/img/general/cap/', 'sizes': [40, 50], 'name': '/delivery_provider_seamless_20180129.png'}}}, 'menu': {'type': 'Menu', 'label': 'Menu', 'anchor': 'View Menu', 'url': 'https://foursquare.com/v/favela-grill/4bdf502a89ca76b062b75d5e/menu', 'mobileUrl': 'https://foursquare.com/v/4bdf502a89ca76b062b75d5e/device_menu'}, 'allowMenuUrlEdit': True, 'beenHere': {'count': 0, 'unconfirmedCount': 0, 'marked': False, 'lastCheckinExpiredAt': 0}, 'specials': {'count': 0, 'items': []}, 'photos': {'count': 112, 'groups': [{'type': 'venue', 'name': 'Venue photos', 'count': 112, 'items': [{'id': '4fcbd0bbe4b09ba63c07f86e', 'createdAt': 1338757307, 'source': {'name': 'Foursquare for iOS', 'url': 'https://foursquare.com/download/#/iphone'}, 'prefix': 'https://fastly.4sqi.net/img/general/', 'suffix': '/2VF1YMMVZrAzQJuaxKw-L84u4GCkIT8MekniR-WTaKg.jpg', 'width': 720, 'height': 540, 'user': {'isSanctioned': False, 'firstName': 'Alisson', 'lastName': 'L'}, 'visibility': 'public'}]}]}, 'reasons': {'count': 1, 'items': [{'summary': 'Lots of people like this place', 'type': 'general', 'reasonName': 'rawLikesReason'}]}, 'hereNow': {'count': 0, 'summary': 'Nobody here', 'groups': []}, 'createdAt': 1272926250, 'tips': {'count': 57, 'groups': [{'type': 'others', 'name': 'All tips', 'count': 57, 'items': [{'id': '4d214e5018406a31ea56bcb8', 'createdAt': 1294028368, 'text': 'They brought Coxinha de frango (chicken), Risoles de camarao (shrimp), Pastel de carne (ground beef), Bolinho de bacalhau (cod fish and potato) and Caipirinhas to Choice Eats', 'type': 'user', 'canonicalUrl': 'https://foursquare.com/item/4d214e5018406a31ea56bcb8', 'lang': 'en', 'likes': {'count': 3, 'groups': [{'type': 'others', 'count': 3, 'items': [{'isSanctioned': False, 'firstName': 'Ranjanabh', 'lastName': 'B'}, {'isSanctioned': False, 'firstName': 'Ricardo', 'lastName': 'G'}, {'isSanctioned': False, 'firstName': 'N', 'lastName': 'Z'}]}], 'summary': '3 likes'}, 'logView': True, 'agreeCount': 3, 'disagreeCount': 0, 'todo': {'count': 4}, 'user': {'isSanctioned': False, 'firstName': 'Village Voice', 'type': 'page'}}]}]}, 'shortUrl': 'http://4sq.com/9Au8K2', 'timeZone': 'America/New_York', 'listed': {'count': 102, 'groups': [{'type': 'others', 'name': 'Lists from other people', 'count': 102, 'items': [{'id': '503a79ace4b0b8a7fe459a41', 'name': 'Favourite Astoria Spots', 'description': '', 'type': 'others', 'user': {'isSanctioned': False, 'firstName': 'deestiv'}, 'editable': False, 'public': True, 'collaborative': False, 'url': '/deestiv/list/favourite-astoria-spots', 'canonicalUrl': 'https://foursquare.com/deestiv/list/favourite-astoria-spots', 'createdAt': 1346009516, 'updatedAt': 1419266980, 'followers': {'count': 28}, 'listItems': {'count': 120, 'items': [{'id': 'v4bdf502a89ca76b062b75d5e', 'createdAt': 1346013705}]}}, {'id': '5790f05e498e465ecfed883f', 'name': \"America's Best Brazilian Restaurants\", 'description': 'Flank steak? Check. Caipirinha? Check. Churrasco? Check! These are America’s top-rated Brazilian restaurants, so you can get your South American grub on.', 'type': 'others', 'user': {'isSanctioned': False, 'firstName': 'Foursquare City Guide', 'type': 'page'}, 'editable': False, 'public': True, 'collaborative': False, 'url': '/foursquare/list/americas-best-brazilian-restaurants', 'canonicalUrl': 'https://foursquare.com/foursquare/list/americas-best-brazilian-restaurants', 'createdAt': 1469116510, 'updatedAt': 1469136227, 'photo': {'id': '5790fbd4498e5be07e8bb4d5', 'createdAt': 1469119444, 'prefix': 'https://fastly.4sqi.net/img/general/', 'suffix': '/23438729_yuLBkOWFE7vHOl5QmTvQAmaORBg7_V2CqinJLpKJdK8.jpg', 'width': 600, 'height': 600, 'user': {'isSanctioned': False, 'firstName': 'Foursquare City Guide', 'type': 'page'}, 'visibility': 'public'}, 'logView': True, 'followers': {'count': 43}, 'listItems': {'count': 25, 'items': [{'id': 't56009bcc498e60b3587d2567', 'createdAt': 1469121166, 'photo': {'id': '5053b260e4b0de8bed98ef8d', 'createdAt': 1347662432, 'prefix': 'https://fastly.4sqi.net/img/general/', 'suffix': '/10466574_86DIjegyfcNrrakUiu_dkEWHQZ34znAMlyltG1dE7jg.jpg', 'width': 540, 'height': 720, 'user': {'isSanctioned': False, 'firstName': 'Ana', 'lastName': 'A'}, 'visibility': 'public'}}]}}, {'id': '4f1f1c4be4b02792a69c3218', 'name': 'The Best Spots in Astoria, NY', 'description': 'Some of the best spots in Astoria, NY. #visitUS', 'type': 'others', 'user': {'isSanctioned': False, 'firstName': 'Julius Erwin', 'lastName': 'Q'}, 'editable': False, 'public': True, 'collaborative': True, 'url': '/valcristdk/list/the-best-spots-in-astoria-ny', 'canonicalUrl': 'https://foursquare.com/valcristdk/list/the-best-spots-in-astoria-ny', 'createdAt': 1327438923, 'updatedAt': 1355104843, 'followers': {'count': 57}, 'listItems': {'count': 33, 'items': [{'id': 't4d214e5018406a31ea56bcb8', 'createdAt': 1327439528}]}}, {'id': '4f43be76e4b0c2ab9b2336c9', 'name': 'Astoria-Astoria!', 'description': \"A compilation of venues in Astoria: whether it's for food, drinks, or a night out on the town, these venues are definitely worth visiting.Go out & explore Astoria today! Thanks for following my list.\", 'type': 'others', 'user': {'isSanctioned': False, 'firstName': 'Randy', 'lastName': 'S'}, 'editable': False, 'public': True, 'collaborative': False, 'url': '/mr_maverick/list/astoriaastoria', 'canonicalUrl': 'https://foursquare.com/mr_maverick/list/astoriaastoria', 'createdAt': 1329839734, 'updatedAt': 1595695168, 'photo': {'id': '5006407ae4b086c13e7dd18e', 'createdAt': 1342587002, 'prefix': 'https://fastly.4sqi.net/img/general/', 'suffix': '/epLgtfCVClPa1L1GsaMTFq_sufmLI2nyBcUFsffW-ks.jpg', 'width': 612, 'height': 612, 'user': {'isSanctioned': False, 'firstName': 'Randy', 'lastName': 'S'}, 'visibility': 'public'}, 'followers': {'count': 504}, 'listItems': {'count': 177, 'items': [{'id': 't4fa004c9e4b0d2f109758052', 'createdAt': 1329839901, 'photo': {'id': '4d7cf9ac84fea340f44cdc69', 'createdAt': 1300036012, 'prefix': 'https://fastly.4sqi.net/img/general/', 'suffix': '/QWFJAGDVXETLKG2P23KWL3F0SAK1KUPN4UMS2C0M5GGH1OUW.jpg', 'width': 720, 'height': 540, 'user': {'isSanctioned': False, 'firstName': 'Randy', 'lastName': 'S'}, 'visibility': 'public'}}]}}]}]}, 'hours': {'status': 'Closed until Noon', 'richStatus': {'entities': [], 'text': 'Closed until Noon'}, 'isOpen': False, 'isLocalHoliday': False, 'dayData': [], 'timeframes': [{'days': 'Mon–Thu, Sun', 'includesToday': True, 'open': [{'renderedTime': 'Noon–11:00 PM'}], 'segments': []}, {'days': 'Fri–Sat', 'open': [{'renderedTime': 'Noon–Midnight'}], 'segments': []}]}, 'popular': {'isOpen': False, 'isLocalHoliday': False, 'timeframes': [{'days': 'Today', 'includesToday': True, 'open': [{'renderedTime': '7:00 PM–10:00 PM'}], 'segments': []}, {'days': 'Tue', 'open': [{'renderedTime': '5:00 PM–9:00 PM'}], 'segments': []}, {'days': 'Wed', 'open': [{'renderedTime': '6:00 PM–10:00 PM'}], 'segments': []}, {'days': 'Thu', 'open': [{'renderedTime': '7:00 PM–10:00 PM'}], 'segments': []}, {'days': 'Fri', 'open': [{'renderedTime': '5:00 PM–Midnight'}], 'segments': []}, {'days': 'Sat', 'open': [{'renderedTime': '1:00 PM–Midnight'}], 'segments': []}, {'days': 'Sun', 'open': [{'renderedTime': '1:00 PM–10:00 PM'}], 'segments': []}]}, 'seasonalHours': [], 'defaultHours': {'status': 'Closed until Noon', 'richStatus': {'entities': [], 'text': 'Closed until Noon'}, 'isOpen': False, 'isLocalHoliday': False, 'dayData': [], 'timeframes': [{'days': 'Mon–Thu, Sun', 'includesToday': True, 'open': [{'renderedTime': 'Noon–11:00 PM'}], 'segments': []}, {'days': 'Fri–Sat', 'open': [{'renderedTime': 'Noon–Midnight'}], 'segments': []}]}, 'pageUpdates': {'count': 0, 'items': []}, 'inbox': {'count': 0, 'items': []}, 'attributes': {'groups': [{'type': 'price', 'name': 'Price', 'summary': '$$', 'count': 1, 'items': [{'displayName': 'Price', 'displayValue': '$$', 'priceTier': 2}]}, {'type': 'reservations', 'name': 'Reservations', 'summary': 'Reservations', 'count': 3, 'items': [{'displayName': 'Reservations', 'displayValue': 'Yes'}]}, {'type': 'outdoorSeating', 'name': 'Outdoor Seating', 'summary': 'Outdoor Seating', 'count': 1, 'items': [{'displayName': 'Outdoor Seating', 'displayValue': 'Yes'}]}, {'type': 'music', 'name': 'Music', 'summary': 'Live Music', 'count': 3, 'items': [{'displayName': 'Live Music', 'displayValue': 'Live Music'}]}, {'type': 'wifi', 'name': 'Wi-Fi', 'summary': 'Wi-Fi', 'count': 1, 'items': [{'displayName': 'Wi-Fi', 'displayValue': 'Yes'}]}, {'type': 'serves', 'name': 'Menus', 'summary': 'Brunch & Happy Hour', 'count': 8, 'items': [{'displayName': 'Brunch', 'displayValue': 'Brunch'}, {'displayName': 'Happy Hour', 'displayValue': 'Happy Hour'}]}, {'type': 'drinks', 'name': 'Drinks', 'summary': 'Full Bar & Cocktails', 'count': 5, 'items': [{'displayName': 'Full Bar', 'displayValue': 'Full Bar'}, {'displayName': 'Cocktails', 'displayValue': 'Cocktails'}]}]}, 'bestPhoto': {'id': '4fcbd0bbe4b09ba63c07f86e', 'createdAt': 1338757307, 'source': {'name': 'Foursquare for iOS', 'url': 'https://foursquare.com/download/#/iphone'}, 'prefix': 'https://fastly.4sqi.net/img/general/', 'suffix': '/2VF1YMMVZrAzQJuaxKw-L84u4GCkIT8MekniR-WTaKg.jpg', 'width': 720, 'height': 540, 'visibility': 'public'}, 'colors': {'highlightColor': {'photoId': '4fcbd0bbe4b09ba63c07f86e', 'value': -12562384}, 'highlightTextColor': {'photoId': '4fcbd0bbe4b09ba63c07f86e', 'value': -1}, 'algoVersion': 3}}}}\n",
      "                         ID          Name  Likes  Rating  Tips\n",
      "0  4bdf502a89ca76b062b75d5e  Favela Grill     86     8.4    57\n",
      "( 2 / 2 ) processed\n"
     ]
    },
    {
     "data": {
      "text/html": [
       "<div>\n",
       "<style scoped>\n",
       "    .dataframe tbody tr th:only-of-type {\n",
       "        vertical-align: middle;\n",
       "    }\n",
       "\n",
       "    .dataframe tbody tr th {\n",
       "        vertical-align: top;\n",
       "    }\n",
       "\n",
       "    .dataframe thead th {\n",
       "        text-align: right;\n",
       "    }\n",
       "</style>\n",
       "<table border=\"1\" class=\"dataframe\">\n",
       "  <thead>\n",
       "    <tr style=\"text-align: right;\">\n",
       "      <th></th>\n",
       "      <th>Borough</th>\n",
       "      <th>Neighborhood</th>\n",
       "      <th>ID</th>\n",
       "      <th>Name</th>\n",
       "      <th>Likes</th>\n",
       "      <th>Rating</th>\n",
       "      <th>Tips</th>\n",
       "    </tr>\n",
       "  </thead>\n",
       "  <tbody>\n",
       "    <tr>\n",
       "      <th>0</th>\n",
       "      <td>Manhattan</td>\n",
       "      <td>West Village</td>\n",
       "      <td>3fd66200f964a52008e71ee3</td>\n",
       "      <td>Casa</td>\n",
       "      <td>194</td>\n",
       "      <td>8.7</td>\n",
       "      <td>66</td>\n",
       "    </tr>\n",
       "    <tr>\n",
       "      <th>1</th>\n",
       "      <td>Queens</td>\n",
       "      <td>Astoria</td>\n",
       "      <td>4bdf502a89ca76b062b75d5e</td>\n",
       "      <td>Favela Grill</td>\n",
       "      <td>86</td>\n",
       "      <td>8.4</td>\n",
       "      <td>57</td>\n",
       "    </tr>\n",
       "  </tbody>\n",
       "</table>\n",
       "</div>"
      ],
      "text/plain": [
       "     Borough  Neighborhood                        ID          Name Likes  \\\n",
       "0  Manhattan  West Village  3fd66200f964a52008e71ee3          Casa   194   \n",
       "1     Queens       Astoria  4bdf502a89ca76b062b75d5e  Favela Grill    86   \n",
       "\n",
       "   Rating Tips  \n",
       "0     8.7   66  \n",
       "1     8.4   57  "
      ]
     },
     "execution_count": 21,
     "metadata": {},
     "output_type": "execute_result"
    }
   ],
   "source": [
    "# Getting the ranking of each restaurant\n",
    "\n",
    "column_names=['Borough', 'Neighborhood', 'ID','Name','Likes','Rating','Tips']\n",
    "brazilian_rest_stats_ny=pd.DataFrame(columns=column_names)\n",
    "count=1\n",
    "for row in brazilian_rest_ny.values.tolist():\n",
    "    Borough,Neighborhood,ID,Name=row\n",
    "    try:\n",
    "        venue_details=get_venue_details(ID)\n",
    "        print(venue_details)\n",
    "        id,name,likes,rating,tips=venue_details.values.tolist()[0]\n",
    "    except IndexError:\n",
    "        print('No data available for id=',ID)\n",
    "        # we will assign 0 value for these resturants as they may have been \n",
    "        #recently opened or details does not exist in FourSquare Database\n",
    "        id,name,likes,rating,tips=[0]*5\n",
    "    print('(',count,'/',len(brazilian_rest_ny),')','processed')\n",
    "    brazilian_rest_stats_ny = brazilian_rest_stats_ny.append({'Borough': Borough,\n",
    "                                                'Neighborhood': Neighborhood, \n",
    "                                                'ID': id,\n",
    "                                                'Name' : name,\n",
    "                                                'Likes' : likes,\n",
    "                                                'Rating' : rating,\n",
    "                                                'Tips' : tips\n",
    "                                               }, ignore_index=True)\n",
    "    count+=1\n",
    "brazilian_rest_stats_ny.tail()"
   ]
  },
  {
   "cell_type": "code",
   "execution_count": 43,
   "metadata": {},
   "outputs": [],
   "source": [
    "brazilian_rest_stats_ny.to_csv('brazilian_rest_stats_ny_csv.csv') # As I move through this project I continue to save data to a .csv file"
   ]
  },
  {
   "cell_type": "code",
   "execution_count": 24,
   "metadata": {},
   "outputs": [
    {
     "data": {
      "text/plain": [
       "(2, 7)"
      ]
     },
     "execution_count": 24,
     "metadata": {},
     "output_type": "execute_result"
    }
   ],
   "source": [
    "brazilian_rest_stats_ny.shape"
   ]
  },
  {
   "cell_type": "code",
   "execution_count": 25,
   "metadata": {},
   "outputs": [
    {
     "name": "stdout",
     "output_type": "stream",
     "text": [
      "<class 'pandas.core.frame.DataFrame'>\n",
      "RangeIndex: 2 entries, 0 to 1\n",
      "Data columns (total 7 columns):\n",
      " #   Column        Non-Null Count  Dtype  \n",
      "---  ------        --------------  -----  \n",
      " 0   Borough       2 non-null      object \n",
      " 1   Neighborhood  2 non-null      object \n",
      " 2   ID            2 non-null      object \n",
      " 3   Name          2 non-null      object \n",
      " 4   Likes         2 non-null      object \n",
      " 5   Rating        2 non-null      float64\n",
      " 6   Tips          2 non-null      object \n",
      "dtypes: float64(1), object(6)\n",
      "memory usage: 240.0+ bytes\n"
     ]
    }
   ],
   "source": [
    "brazilian_rest_stats_ny.info()"
   ]
  },
  {
   "cell_type": "code",
   "execution_count": 26,
   "metadata": {},
   "outputs": [
    {
     "name": "stdout",
     "output_type": "stream",
     "text": [
      "<class 'pandas.core.frame.DataFrame'>\n",
      "RangeIndex: 2 entries, 0 to 1\n",
      "Data columns (total 7 columns):\n",
      " #   Column        Non-Null Count  Dtype  \n",
      "---  ------        --------------  -----  \n",
      " 0   Borough       2 non-null      object \n",
      " 1   Neighborhood  2 non-null      object \n",
      " 2   ID            2 non-null      object \n",
      " 3   Name          2 non-null      object \n",
      " 4   Likes         2 non-null      float64\n",
      " 5   Rating        2 non-null      float64\n",
      " 6   Tips          2 non-null      float64\n",
      "dtypes: float64(3), object(4)\n",
      "memory usage: 240.0+ bytes\n"
     ]
    }
   ],
   "source": [
    "# Turning likes and tips into float\n",
    "\n",
    "brazilian_rest_stats_ny['Likes'] = brazilian_rest_stats_ny['Likes'].astype('float64')\n",
    "brazilian_rest_stats_ny['Tips'] = brazilian_rest_stats_ny['Tips'].astype('float64')\n",
    "brazilian_rest_stats_ny.info()"
   ]
  },
  {
   "cell_type": "markdown",
   "metadata": {},
   "source": [
    "### Evaluating the results"
   ]
  },
  {
   "cell_type": "code",
   "execution_count": 27,
   "metadata": {},
   "outputs": [
    {
     "data": {
      "text/html": [
       "<div>\n",
       "<style scoped>\n",
       "    .dataframe tbody tr th:only-of-type {\n",
       "        vertical-align: middle;\n",
       "    }\n",
       "\n",
       "    .dataframe tbody tr th {\n",
       "        vertical-align: top;\n",
       "    }\n",
       "\n",
       "    .dataframe thead th {\n",
       "        text-align: right;\n",
       "    }\n",
       "</style>\n",
       "<table border=\"1\" class=\"dataframe\">\n",
       "  <thead>\n",
       "    <tr style=\"text-align: right;\">\n",
       "      <th></th>\n",
       "      <th>Likes</th>\n",
       "      <th>Rating</th>\n",
       "      <th>Tips</th>\n",
       "    </tr>\n",
       "  </thead>\n",
       "  <tbody>\n",
       "    <tr>\n",
       "      <th>count</th>\n",
       "      <td>2.000000</td>\n",
       "      <td>2.000000</td>\n",
       "      <td>2.000000</td>\n",
       "    </tr>\n",
       "    <tr>\n",
       "      <th>mean</th>\n",
       "      <td>140.000000</td>\n",
       "      <td>8.550000</td>\n",
       "      <td>61.500000</td>\n",
       "    </tr>\n",
       "    <tr>\n",
       "      <th>std</th>\n",
       "      <td>76.367532</td>\n",
       "      <td>0.212132</td>\n",
       "      <td>6.363961</td>\n",
       "    </tr>\n",
       "    <tr>\n",
       "      <th>min</th>\n",
       "      <td>86.000000</td>\n",
       "      <td>8.400000</td>\n",
       "      <td>57.000000</td>\n",
       "    </tr>\n",
       "    <tr>\n",
       "      <th>25%</th>\n",
       "      <td>113.000000</td>\n",
       "      <td>8.475000</td>\n",
       "      <td>59.250000</td>\n",
       "    </tr>\n",
       "    <tr>\n",
       "      <th>50%</th>\n",
       "      <td>140.000000</td>\n",
       "      <td>8.550000</td>\n",
       "      <td>61.500000</td>\n",
       "    </tr>\n",
       "    <tr>\n",
       "      <th>75%</th>\n",
       "      <td>167.000000</td>\n",
       "      <td>8.625000</td>\n",
       "      <td>63.750000</td>\n",
       "    </tr>\n",
       "    <tr>\n",
       "      <th>max</th>\n",
       "      <td>194.000000</td>\n",
       "      <td>8.700000</td>\n",
       "      <td>66.000000</td>\n",
       "    </tr>\n",
       "  </tbody>\n",
       "</table>\n",
       "</div>"
      ],
      "text/plain": [
       "            Likes    Rating       Tips\n",
       "count    2.000000  2.000000   2.000000\n",
       "mean   140.000000  8.550000  61.500000\n",
       "std     76.367532  0.212132   6.363961\n",
       "min     86.000000  8.400000  57.000000\n",
       "25%    113.000000  8.475000  59.250000\n",
       "50%    140.000000  8.550000  61.500000\n",
       "75%    167.000000  8.625000  63.750000\n",
       "max    194.000000  8.700000  66.000000"
      ]
     },
     "execution_count": 27,
     "metadata": {},
     "output_type": "execute_result"
    }
   ],
   "source": [
    "brazilian_rest_stats_ny.describe()"
   ]
  },
  {
   "cell_type": "code",
   "execution_count": 30,
   "metadata": {},
   "outputs": [
    {
     "data": {
      "text/plain": [
       "Borough                        Manhattan\n",
       "Neighborhood                West Village\n",
       "ID              3fd66200f964a52008e71ee3\n",
       "Name                                Casa\n",
       "Likes                                194\n",
       "Rating                               8.7\n",
       "Tips                                  66\n",
       "Name: 0, dtype: object"
      ]
     },
     "execution_count": 30,
     "metadata": {},
     "output_type": "execute_result"
    }
   ],
   "source": [
    "# Restaurant with maximum Likes\n",
    "brazilian_rest_stats_ny.iloc[brazilian_rest_stats_ny['Likes'].idxmax()]"
   ]
  },
  {
   "cell_type": "code",
   "execution_count": 32,
   "metadata": {},
   "outputs": [
    {
     "data": {
      "text/plain": [
       "Borough                        Manhattan\n",
       "Neighborhood                West Village\n",
       "ID              3fd66200f964a52008e71ee3\n",
       "Name                                Casa\n",
       "Likes                                194\n",
       "Rating                               8.7\n",
       "Tips                                  66\n",
       "Name: 0, dtype: object"
      ]
     },
     "execution_count": 32,
     "metadata": {},
     "output_type": "execute_result"
    }
   ],
   "source": [
    "# Restaurant with maximum Ratings\n",
    "brazilian_rest_stats_ny.iloc[brazilian_rest_stats_ny['Rating'].idxmax()]"
   ]
  },
  {
   "cell_type": "code",
   "execution_count": 33,
   "metadata": {},
   "outputs": [
    {
     "data": {
      "text/plain": [
       "Borough                        Manhattan\n",
       "Neighborhood                West Village\n",
       "ID              3fd66200f964a52008e71ee3\n",
       "Name                                Casa\n",
       "Likes                                194\n",
       "Rating                               8.7\n",
       "Tips                                  66\n",
       "Name: 0, dtype: object"
      ]
     },
     "execution_count": 33,
     "metadata": {},
     "output_type": "execute_result"
    }
   ],
   "source": [
    "# Restaurant with maximum Tips\n",
    "brazilian_rest_stats_ny.iloc[brazilian_rest_stats_ny['Tips'].idxmax()]"
   ]
  },
  {
   "cell_type": "markdown",
   "metadata": {},
   "source": [
    "### Avarege from one observation! Statistics with no data..."
   ]
  },
  {
   "cell_type": "markdown",
   "metadata": {},
   "source": [
    "Even though it makes no sense to get too much statistics from these two observations, I'll leave it here so that the same piece of code can be used for evaluating a different set of data, with more observations..."
   ]
  },
  {
   "cell_type": "code",
   "execution_count": 35,
   "metadata": {},
   "outputs": [
    {
     "data": {
      "text/html": [
       "<div>\n",
       "<style scoped>\n",
       "    .dataframe tbody tr th:only-of-type {\n",
       "        vertical-align: middle;\n",
       "    }\n",
       "\n",
       "    .dataframe tbody tr th {\n",
       "        vertical-align: top;\n",
       "    }\n",
       "\n",
       "    .dataframe thead th {\n",
       "        text-align: right;\n",
       "    }\n",
       "</style>\n",
       "<table border=\"1\" class=\"dataframe\">\n",
       "  <thead>\n",
       "    <tr style=\"text-align: right;\">\n",
       "      <th></th>\n",
       "      <th>Neighborhood</th>\n",
       "      <th>Average Rating</th>\n",
       "    </tr>\n",
       "  </thead>\n",
       "  <tbody>\n",
       "    <tr>\n",
       "      <th>1</th>\n",
       "      <td>West Village</td>\n",
       "      <td>8.7</td>\n",
       "    </tr>\n",
       "    <tr>\n",
       "      <th>0</th>\n",
       "      <td>Astoria</td>\n",
       "      <td>8.4</td>\n",
       "    </tr>\n",
       "  </tbody>\n",
       "</table>\n",
       "</div>"
      ],
      "text/plain": [
       "   Neighborhood  Average Rating\n",
       "1  West Village             8.7\n",
       "0       Astoria             8.4"
      ]
     },
     "execution_count": 35,
     "metadata": {},
     "output_type": "execute_result"
    }
   ],
   "source": [
    "# Getting the avarege rate of a neighborhood... with only one observation.\n",
    "ny_neighborhood_stats=brazilian_rest_stats_ny.groupby('Neighborhood',as_index=False).mean()[['Neighborhood','Rating']]\n",
    "ny_neighborhood_stats.columns=['Neighborhood','Average Rating']\n",
    "ny_neighborhood_stats.sort_values(['Average Rating'],ascending=False).head(10)"
   ]
  },
  {
   "cell_type": "code",
   "execution_count": 36,
   "metadata": {},
   "outputs": [
    {
     "data": {
      "text/html": [
       "<div>\n",
       "<style scoped>\n",
       "    .dataframe tbody tr th:only-of-type {\n",
       "        vertical-align: middle;\n",
       "    }\n",
       "\n",
       "    .dataframe tbody tr th {\n",
       "        vertical-align: top;\n",
       "    }\n",
       "\n",
       "    .dataframe thead th {\n",
       "        text-align: right;\n",
       "    }\n",
       "</style>\n",
       "<table border=\"1\" class=\"dataframe\">\n",
       "  <thead>\n",
       "    <tr style=\"text-align: right;\">\n",
       "      <th></th>\n",
       "      <th>Borough</th>\n",
       "      <th>Average Rating</th>\n",
       "    </tr>\n",
       "  </thead>\n",
       "  <tbody>\n",
       "    <tr>\n",
       "      <th>0</th>\n",
       "      <td>Manhattan</td>\n",
       "      <td>8.7</td>\n",
       "    </tr>\n",
       "    <tr>\n",
       "      <th>1</th>\n",
       "      <td>Queens</td>\n",
       "      <td>8.4</td>\n",
       "    </tr>\n",
       "  </tbody>\n",
       "</table>\n",
       "</div>"
      ],
      "text/plain": [
       "     Borough  Average Rating\n",
       "0  Manhattan             8.7\n",
       "1     Queens             8.4"
      ]
     },
     "execution_count": 36,
     "metadata": {},
     "output_type": "execute_result"
    }
   ],
   "source": [
    "# Getting the avarege rate of a borough... with only one observation.\n",
    "ny_borough_stats=brazilian_rest_stats_ny.groupby('Borough',as_index=False).mean()[['Borough','Rating']]\n",
    "ny_borough_stats.columns=['Borough','Average Rating']\n",
    "ny_borough_stats.sort_values(['Average Rating'],ascending=False).head()"
   ]
  },
  {
   "cell_type": "code",
   "execution_count": 38,
   "metadata": {},
   "outputs": [
    {
     "data": {
      "image/png": "[encoded data removed]",
      "text/plain": [
       "<Figure size 900x500 with 1 Axes>"
      ]
     },
     "metadata": {
      "needs_background": "light"
     },
     "output_type": "display_data"
    }
   ],
   "source": [
    "# Visualizing the avareges of one observation... fells kind of dumb...\n",
    "\n",
    "plt.figure(figsize=(9,5), dpi = 100)\n",
    "plt.title('Average rating of Brazilian Restaurants for each Borough')\n",
    "plt.xlabel('Borough', fontsize = 15)\n",
    "plt.ylabel('Average Rating', fontsize=15)\n",
    "brazilian_rest_stats_ny.groupby('Borough').mean()['Rating'].plot(kind='bar', color=clr)\n",
    "plt.legend()\n",
    "plt.show()"
   ]
  },
  {
   "cell_type": "code",
   "execution_count": 39,
   "metadata": {},
   "outputs": [
    {
     "data": {
      "text/html": [
       "<div>\n",
       "<style scoped>\n",
       "    .dataframe tbody tr th:only-of-type {\n",
       "        vertical-align: middle;\n",
       "    }\n",
       "\n",
       "    .dataframe tbody tr th {\n",
       "        vertical-align: top;\n",
       "    }\n",
       "\n",
       "    .dataframe thead th {\n",
       "        text-align: right;\n",
       "    }\n",
       "</style>\n",
       "<table border=\"1\" class=\"dataframe\">\n",
       "  <thead>\n",
       "    <tr style=\"text-align: right;\">\n",
       "      <th></th>\n",
       "      <th>Borough</th>\n",
       "      <th>Neighborhood</th>\n",
       "      <th>Latitude</th>\n",
       "      <th>Longitude</th>\n",
       "      <th>Average Rating</th>\n",
       "    </tr>\n",
       "  </thead>\n",
       "  <tbody>\n",
       "    <tr>\n",
       "      <th>0</th>\n",
       "      <td>Queens</td>\n",
       "      <td>Astoria</td>\n",
       "      <td>40.768509</td>\n",
       "      <td>-73.915654</td>\n",
       "      <td>8.4</td>\n",
       "    </tr>\n",
       "    <tr>\n",
       "      <th>1</th>\n",
       "      <td>Manhattan</td>\n",
       "      <td>West Village</td>\n",
       "      <td>40.734434</td>\n",
       "      <td>-74.006180</td>\n",
       "      <td>8.7</td>\n",
       "    </tr>\n",
       "  </tbody>\n",
       "</table>\n",
       "</div>"
      ],
      "text/plain": [
       "     Borough  Neighborhood   Latitude  Longitude  Average Rating\n",
       "0     Queens       Astoria  40.768509 -73.915654             8.4\n",
       "1  Manhattan  West Village  40.734434 -74.006180             8.7"
      ]
     },
     "execution_count": 39,
     "metadata": {},
     "output_type": "execute_result"
    }
   ],
   "source": [
    "# Joining the datasets to get longitute and latitude\n",
    "\n",
    "ny_neighborhood_stats=pd.merge(ny_neighborhood_stats,ny_data, on='Neighborhood')\n",
    "ny_neighborhood_stats=ny_neighborhood_stats[['Borough','Neighborhood','Latitude','Longitude','Average Rating']]\n",
    "ny_neighborhood_stats"
   ]
  },
  {
   "cell_type": "code",
   "execution_count": 40,
   "metadata": {},
   "outputs": [],
   "source": [
    "# create map and display it\n",
    "ny_map = folium.Map(location=geo_location('New York'), zoom_start=12)\n",
    "# instantiate a feature group for the ratings in the dataframe\n",
    "rating = folium.map.FeatureGroup()\n",
    "\n",
    "# loop through the ratings and add each to the neighborhood feature group\n",
    "for lat, lng, in ny_neighborhood_stats[['Latitude','Longitude']].values:\n",
    "    rating.add_child(\n",
    "        folium.CircleMarker(\n",
    "            [lat, lng],\n",
    "            radius=10, # define how big you want the circle markers to be\n",
    "            color='yellow',\n",
    "            fill=True,\n",
    "            fill_color='blue',\n",
    "            fill_opacity=0.6\n",
    "        )\n",
    "    )"
   ]
  },
  {
   "cell_type": "code",
   "execution_count": 41,
   "metadata": {},
   "outputs": [
    {
     "data": {
      "text/html": [
       "<div style=\"width:100%;\"><div style=\"position:relative;width:100%;height:0;padding-bottom:60%;\"><span style=\"color:#565656\">Make this Notebook Trusted to load map: File -> Trust Notebook</span><iframe src=\"about:blank\" style=\"position:absolute;width:100%;height:100%;left:0;top:0;border:none !important;\" data-html=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 onload=\"this.contentDocument.open();this.contentDocument.write(atob(this.getAttribute('data-html')));this.contentDocument.close();\" allowfullscreen webkitallowfullscreen mozallowfullscreen></iframe></div></div>"
      ],
      "text/plain": [
       "<folium.folium.Map at 0x2833291b048>"
      ]
     },
     "execution_count": 41,
     "metadata": {},
     "output_type": "execute_result"
    }
   ],
   "source": [
    "ny_neighborhood_stats['Label']=ny_neighborhood_stats['Neighborhood']+', '+ny_neighborhood_stats['Borough']+'('+ny_neighborhood_stats['Average Rating'].map(str)+')'\n",
    "# add pop-up text to each marker on the map\n",
    "for lat, lng, label in ny_neighborhood_stats[['Latitude','Longitude','Label']].values:\n",
    "    folium.Marker([lat, lng], popup=label).add_to(ny_map)        \n",
    "# add ratings to map\n",
    "ny_map.add_child(rating)"
   ]
  },
  {
   "cell_type": "markdown",
   "metadata": {},
   "source": [
    "# Results and Conclusions"
   ]
  },
  {
   "cell_type": "markdown",
   "metadata": {},
   "source": [
    "Both West Village (Manhattan) and Astoria (Queens) have high rates for their brazilian restaurants.\n",
    "\n",
    "During the course of this project, there was this main issue related to the amount of data. Even though there is an elevated brazilian population in NYC and there probably are other brazilian restaurant options, these alternatives are not registered in FourSquare, or they are classified as something other than \"brazilian restaurant\".\n",
    "\n",
    "Even with that issue, it was possible to create a project that used most of the tools and methods that were studied during the course.\n",
    "\n",
    "The West Village restaurant seems to be the best brazilian restaurant option according to its statistics in ForSquare. However, it is closely followed by the Astoria restaurant. Other factors, such as accessibility might be added to the evaluation in order to choose between them. Anyway, the first choice would be the West Village restaurant, but it would be interesting to try both of them.\n",
    "\n",
    "If it were to open a new Brazilian restaurant, Manhattan or Queens would be interesting choices of borough. Manhattan seems to be able to have a greater public, considering its higher number of \"Likes\"."
   ]
  },
  {
   "cell_type": "code",
   "execution_count": null,
   "metadata": {},
   "outputs": [],
   "source": []
  }
 ],
 "metadata": {
  "kernelspec": {
   "display_name": "Python 3",
   "language": "python",
   "name": "python3"
  },
  "language_info": {
   "codemirror_mode": {
    "name": "ipython",
    "version": 3
   },
   "file_extension": ".py",
   "mimetype": "text/x-python",
   "name": "python",
   "nbconvert_exporter": "python",
   "pygments_lexer": "ipython3",
   "version": "3.7.1"
  }
 },
 "nbformat": 4,
 "nbformat_minor": 4
}
